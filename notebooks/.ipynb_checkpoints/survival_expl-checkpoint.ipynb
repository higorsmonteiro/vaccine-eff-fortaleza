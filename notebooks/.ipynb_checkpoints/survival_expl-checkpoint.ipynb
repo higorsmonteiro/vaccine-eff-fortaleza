{
 "cells": [
  {
   "cell_type": "code",
   "execution_count": null,
   "id": "dbc2595c-b8c6-4723-9264-297eeb3262a4",
   "metadata": {},
   "outputs": [],
   "source": [
    "import sys\n",
    "sys.path.append(\"..\")\n",
    "\n",
    "import os\n",
    "import json\n",
    "import numpy as np\n",
    "import datetime as dt\n",
    "import pandas as pd\n",
    "from src.VaccineEffectiveness import VaccineEffectiveness\n",
    "\n",
    "import matplotlib.pyplot as plt\n",
    "%matplotlib inline"
   ]
  },
  {
   "cell_type": "code",
   "execution_count": null,
   "id": "091647e2-5614-4b45-8622-460beef29080",
   "metadata": {},
   "outputs": [],
   "source": [
    "path_file = os.path.join(\"..\", \"output\", \"data\", \"COHORT_21JAN2021_31AUG2021\")\n",
    "\n",
    "df_pair = pd.read_csv(os.path.join(path_file, \"pareados_corona_1.csv\"), dtype={\"CPF\": str, \"PAR\": str})\n",
    "df_info = pd.read_csv(os.path.join(path_file, \"pares_eventos_corona_1.csv\"))"
   ]
  },
  {
   "cell_type": "code",
   "execution_count": null,
   "id": "387afae2-dc7b-4cd6-ba46-47dd82be89f3",
   "metadata": {},
   "outputs": [],
   "source": [
    "ve_obj = VaccineEffectiveness(df_pair, df_info)"
   ]
  },
  {
   "cell_type": "code",
   "execution_count": null,
   "id": "abe37c1c-f017-4a01-be89-4327b3962892",
   "metadata": {},
   "outputs": [],
   "source": [
    "intervals = ve_obj.define_intervals(dt.date(2021, 8, 31), return_=True)"
   ]
  },
  {
   "cell_type": "code",
   "execution_count": 6,
   "id": "cc97b1a2-b93c-4540-a1d0-a184eb4f6af7",
   "metadata": {},
   "outputs": [
    {
     "data": {
      "text/plain": [
       "{'CPF CASO': '10965394387',\n",
       " 'CPF CONTROLE': '11633581349',\n",
       " 'D1': ([('D1 to D2', 24),\n",
       "   ('D1 to D1_CONTROL', 66),\n",
       "   ('D1 to COVID', nan),\n",
       "   ('D1 to GERAL', nan),\n",
       "   ('D1 to FIM', 222)],\n",
       "  [('D1 to D1_CONTROL', 66),\n",
       "   ('D1 to COVID_CONTROL', nan),\n",
       "   ('D1 to GERAL_CONTROL', nan),\n",
       "   ('D1 to FIM', 222)]),\n",
       " 'D2': ([('D2 to D1_CONTROL', 42),\n",
       "   ('D2 to COVID', nan),\n",
       "   ('D2 to GERAL', nan),\n",
       "   ('D2 to FIM', 198)],\n",
       "  [('D2 to D1_CONTROL', 42),\n",
       "   ('D2 to COVID_CONTROL', nan),\n",
       "   ('D2 to GERAL_CONTROL', nan),\n",
       "   ('D2 to FIM', 198)])}"
      ]
     },
     "execution_count": 6,
     "metadata": {},
     "output_type": "execute_result"
    }
   ],
   "source": [
    "ve_obj.intervals[1]"
   ]
  },
  {
   "cell_type": "code",
   "execution_count": 23,
   "id": "8363407e-5571-4d2a-a4bb-bfcc6ab2442a",
   "metadata": {},
   "outputs": [],
   "source": [
    "caso_dict = ve_obj.casos_hash['17381339315']\n",
    "controle_dict= ve_obj.controles_hash['02604396300']"
   ]
  },
  {
   "cell_type": "code",
   "execution_count": 24,
   "id": "636999d3-d971-4edb-8bf3-16a3dc329df5",
   "metadata": {},
   "outputs": [
    {
     "name": "stdout",
     "output_type": "stream",
     "text": [
      "{'CPF': '17381339315', 'DATA D1': Timestamp('2021-02-28 00:00:00'), 'DATA D2': Timestamp('2021-05-19 00:00:00'), 'DATA OBITO COVID': NaT, 'DATA OBITO GERAL': NaT, 'TIPO': 'CASO', 'PAR': '02604396300'}\n",
      "\n",
      "\n",
      "{'CPF': '02604396300', 'DATA D1': NaT, 'DATA D2': NaT, 'DATA OBITO COVID': Timestamp('2021-04-16 00:00:00'), 'DATA OBITO GERAL': NaT, 'TIPO': 'CONTROLE', 'PAR': '17381339315'}\n"
     ]
    }
   ],
   "source": [
    "print(caso_dict)\n",
    "print(\"\\n\")\n",
    "print(controle_dict)"
   ]
  },
  {
   "cell_type": "code",
   "execution_count": null,
   "id": "293f8e49-25d3-4fdc-8188-e206f3ed7983",
   "metadata": {},
   "outputs": [],
   "source": []
  },
  {
   "cell_type": "code",
   "execution_count": 18,
   "id": "b5db0073-ba56-414c-9773-41bc9bfdc60b",
   "metadata": {},
   "outputs": [
    {
     "data": {
      "text/html": [
       "<div>\n",
       "<style scoped>\n",
       "    .dataframe tbody tr th:only-of-type {\n",
       "        vertical-align: middle;\n",
       "    }\n",
       "\n",
       "    .dataframe tbody tr th {\n",
       "        vertical-align: top;\n",
       "    }\n",
       "\n",
       "    .dataframe thead th {\n",
       "        text-align: right;\n",
       "    }\n",
       "</style>\n",
       "<table border=\"1\" class=\"dataframe\">\n",
       "  <thead>\n",
       "    <tr style=\"text-align: right;\">\n",
       "      <th></th>\n",
       "      <th>CPF CASO</th>\n",
       "      <th>CPF CONTROLE</th>\n",
       "      <th>CASO INTERVALO D1</th>\n",
       "      <th>CASO CENSORADO D1</th>\n",
       "      <th>CASO OBITO COVID</th>\n",
       "      <th>CONTROLE INTERVALO D1</th>\n",
       "      <th>CONTROLE CENSORADO D1</th>\n",
       "      <th>CONTROLE OBITO COVID</th>\n",
       "      <th>CASO INTERVALO D2</th>\n",
       "      <th>CASO CENSORADO D2</th>\n",
       "      <th>CONTROLE INTERVALO D2</th>\n",
       "      <th>CONTROLE CENSORADO D2</th>\n",
       "    </tr>\n",
       "  </thead>\n",
       "  <tbody>\n",
       "    <tr>\n",
       "      <th>2529</th>\n",
       "      <td>17381339315</td>\n",
       "      <td>02604396300</td>\n",
       "      <td>80.0</td>\n",
       "      <td>True</td>\n",
       "      <td>NaT</td>\n",
       "      <td>184.0</td>\n",
       "      <td>True</td>\n",
       "      <td>2021-04-16</td>\n",
       "      <td>104.0</td>\n",
       "      <td>True</td>\n",
       "      <td>104.0</td>\n",
       "      <td>True</td>\n",
       "    </tr>\n",
       "  </tbody>\n",
       "</table>\n",
       "</div>"
      ],
      "text/plain": [
       "         CPF CASO CPF CONTROLE  CASO INTERVALO D1  CASO CENSORADO D1  \\\n",
       "2529  17381339315  02604396300               80.0               True   \n",
       "\n",
       "     CASO OBITO COVID  CONTROLE INTERVALO D1  CONTROLE CENSORADO D1  \\\n",
       "2529              NaT                  184.0                   True   \n",
       "\n",
       "     CONTROLE OBITO COVID  CASO INTERVALO D2  CASO CENSORADO D2  \\\n",
       "2529           2021-04-16              104.0               True   \n",
       "\n",
       "      CONTROLE INTERVALO D2  CONTROLE CENSORADO D2  \n",
       "2529                  104.0                   True  "
      ]
     },
     "execution_count": 18,
     "metadata": {},
     "output_type": "execute_result"
    }
   ],
   "source": [
    "intervals[(pd.notna(intervals[\"CASO OBITO COVID\"])) | (pd.notna(intervals[\"CONTROLE OBITO COVID\"]))][23:24]"
   ]
  },
  {
   "cell_type": "code",
   "execution_count": null,
   "id": "a46b42db-a6eb-432d-9cf2-80755026bda5",
   "metadata": {},
   "outputs": [],
   "source": []
  },
  {
   "cell_type": "code",
   "execution_count": null,
   "id": "9abdd4d2-5432-4346-a9d9-add350e76222",
   "metadata": {},
   "outputs": [],
   "source": []
  },
  {
   "cell_type": "code",
   "execution_count": null,
   "id": "a044b03a-f2e3-42b8-ae58-a24d351dcbed",
   "metadata": {},
   "outputs": [],
   "source": []
  },
  {
   "cell_type": "code",
   "execution_count": 25,
   "id": "f4d2c0b6-d4e2-4b90-9c97-7d586fe8d33b",
   "metadata": {},
   "outputs": [],
   "source": [
    "def compare_pair_survival(caso_hash, controle_hash, events_col, final_cohort):\n",
    "    '''\n",
    "        Description.\n",
    "        \n",
    "        Args:\n",
    "            caso_hash:\n",
    "                dictionary.\n",
    "            controle_hash:\n",
    "                dictionary.\n",
    "            events_col:\n",
    "                dictionary.\n",
    "            final_cohort:\n",
    "                datetime.date.\n",
    "        Return:\n",
    "            xxx:\n",
    "                xxx.\n",
    "    '''\n",
    "    cpf_caso = caso_hash[\"CPF\"]\n",
    "    cpf_controle = controle_hash[\"CPF\"]\n",
    "    # Get events of case\n",
    "    caso_d1_date = caso_hash[events_col[\"D1\"]]\n",
    "    caso_d2_date = caso_hash[events_col[\"D2\"]]\n",
    "    caso_covid_date = caso_hash[events_col[\"OBITO COVID\"]]\n",
    "    caso_geral_date = caso_hash[events_col[\"OBITO GERAL\"]]\n",
    "    # Get events of control\n",
    "    control_d1_date = controle_hash[events_col[\"D1\"]]\n",
    "    control_d2_date = controle_hash[events_col[\"D2\"]]\n",
    "    control_covid_date = controle_hash[events_col[\"OBITO COVID\"]]\n",
    "    control_geral_date = controle_hash[events_col[\"OBITO GERAL\"]]\n",
    "    \n",
    "    f = lambda x: x.date() if not pd.isna(x) else np.nan\n",
    "    g = lambda x,y: (x-y).days if not pd.isna(x) and not pd.isna(y) else np.nan\n",
    "            \n",
    "    # --> D1\n",
    "    start_date = caso_d1_date.date()\n",
    "    caso_diff = {\n",
    "        \"D1 to D2\": g(f(caso_d2_date),start_date),\n",
    "        \"D1 to D1_CONTROL\": g(f(control_d1_date),start_date),\n",
    "        \"D1 to COVID\": g(f(caso_covid_date), start_date),\n",
    "        \"D1 to GERAL\": g(f(caso_geral_date), start_date),\n",
    "        \"D1 to FIM\": g(final_cohort, start_date)\n",
    "    }\n",
    "    control_diff = {\n",
    "        \"D1 to D1_CONTROL\": g(f(control_d1_date),start_date),\n",
    "        \"D1 to COVID_CONTROL\": g(f(control_covid_date),start_date),\n",
    "        \"D1 to GERAL_CONTROL\": g(f(control_geral_date), start_date),\n",
    "        \"D1 to FIM\": g(final_cohort,start_date)\n",
    "    }\n",
    "    \n",
    "    # --> D2\n",
    "    start_date = caso_d2_date.date()\n",
    "    caso_diff_d2 = {\n",
    "        \"D2 to D2\": g(f(caso_d2_date),start_date),\n",
    "        \"D2 to D1_CONTROL\": g(f(control_d1_date),start_date),\n",
    "        \"D2 to COVID\": g(f(caso_covid_date), start_date),\n",
    "        \"D2 to GERAL\": g(f(caso_geral_date), start_date),\n",
    "        \"D2 to FIM\": g(final_cohort, start_date)\n",
    "    }\n",
    "    control_diff_d2 = {\n",
    "        \"D2 to D1_CONTROL\": g(f(control_d1_date),start_date),\n",
    "        \"D2 to COVID_CONTROL\": g(f(control_covid_date),start_date),\n",
    "        \"D2 to GERAL_CONTROL\": g(f(control_geral_date), start_date),\n",
    "        \"D2 to FIM\": g(final_cohort,start_date)\n",
    "    }\n",
    "    \n",
    "    caso_events_d1 = [ (key, caso_diff[key]) for key in caso_diff.keys() ]\n",
    "    control_events_d1 = [ (key, control_diff[key]) for key in control_diff.keys() ]\n",
    "    caso_events_d2 = [ (key, caso_diff_d2[key]) for key in caso_diff_d2.keys() ]\n",
    "    control_events_d2 = [ (key, control_diff_d2[key]) for key in control_diff_d2.keys() ]\n",
    "    res = {\n",
    "        \"CPF CASO\": cpf_caso,\n",
    "        \"CPF CONTROLE\": cpf_controle,\n",
    "        \"D1\": (caso_events_d1, control_events_d1),\n",
    "        \"D2\": (caso_events_d2, control_events_d2)\n",
    "    }\n",
    "    return res"
   ]
  },
  {
   "cell_type": "code",
   "execution_count": 28,
   "id": "648e6e04-c5a9-4745-9caa-51c387272e5c",
   "metadata": {},
   "outputs": [
    {
     "data": {
      "text/plain": [
       "{'CPF CASO': '17381339315',\n",
       " 'CPF CONTROLE': '02604396300',\n",
       " 'D1': ([('D1 to D2', 80),\n",
       "   ('D1 to D1_CONTROL', nan),\n",
       "   ('D1 to COVID', nan),\n",
       "   ('D1 to GERAL', nan),\n",
       "   ('D1 to FIM', 184)],\n",
       "  [('D1 to D1_CONTROL', nan),\n",
       "   ('D1 to COVID_CONTROL', 47),\n",
       "   ('D1 to GERAL_CONTROL', nan),\n",
       "   ('D1 to FIM', 184)]),\n",
       " 'D2': ([('D2 to D2', 0),\n",
       "   ('D2 to D1_CONTROL', nan),\n",
       "   ('D2 to COVID', nan),\n",
       "   ('D2 to GERAL', nan),\n",
       "   ('D2 to FIM', 104)],\n",
       "  [('D2 to D1_CONTROL', nan),\n",
       "   ('D2 to COVID_CONTROL', -33),\n",
       "   ('D2 to GERAL_CONTROL', nan),\n",
       "   ('D2 to FIM', 104)])}"
      ]
     },
     "execution_count": 28,
     "metadata": {},
     "output_type": "execute_result"
    }
   ],
   "source": [
    "cols = {\n",
    "    \"D1\": \"DATA D1\", \"D2\": \"DATA D2\",\n",
    "    \"OBITO COVID\": \"DATA OBITO COVID\",\n",
    "    \"OBITO GERAL\": \"DATA OBITO GERAL\"\n",
    "}\n",
    "info = compare_pair_survival(caso_dict, controle_dict, cols, dt.date(2021, 8, 31))\n",
    "info"
   ]
  },
  {
   "cell_type": "code",
   "execution_count": null,
   "id": "3fbf53af-97e7-475d-9590-f2dbb395f1f5",
   "metadata": {},
   "outputs": [],
   "source": []
  },
  {
   "cell_type": "code",
   "execution_count": 32,
   "id": "4b67e30b-2fd8-4dc7-a5d8-95d773e8f25b",
   "metadata": {},
   "outputs": [],
   "source": [
    "\n",
    "info_d1_caso = info[\"D1\"][0]\n",
    "info_d1_controle = info[\"D1\"][1]\n",
    "info_d1_caso = sorted(info_d1_caso, key=lambda tup: tup[1])\n",
    "info_d1_controle = sorted(info_d1_controle, key=lambda tup: tup[1])\n",
    "info_d1_caso = [ x for x in info_d1_caso if not pd.isna(x[1]) ]\n",
    "info_d1_controle = [ x for x in info_d1_controle if not pd.isna(x[1]) ]"
   ]
  },
  {
   "cell_type": "code",
   "execution_count": 33,
   "id": "999f6004-8423-41f2-881c-d449c5c9e634",
   "metadata": {},
   "outputs": [
    {
     "data": {
      "text/plain": [
       "[('D1 to COVID_CONTROL', 47), ('D1 to FIM', 184)]"
      ]
     },
     "execution_count": 33,
     "metadata": {},
     "output_type": "execute_result"
    }
   ],
   "source": [
    "info_d1_controle"
   ]
  },
  {
   "cell_type": "code",
   "execution_count": null,
   "id": "0e28a913-9187-41e6-a0c9-a59d7a9e4850",
   "metadata": {},
   "outputs": [],
   "source": []
  }
 ],
 "metadata": {
  "kernelspec": {
   "display_name": "Python 3",
   "language": "python",
   "name": "python3"
  },
  "language_info": {
   "codemirror_mode": {
    "name": "ipython",
    "version": 3
   },
   "file_extension": ".py",
   "mimetype": "text/x-python",
   "name": "python",
   "nbconvert_exporter": "python",
   "pygments_lexer": "ipython3",
   "version": "3.9.6"
  }
 },
 "nbformat": 4,
 "nbformat_minor": 5
}
