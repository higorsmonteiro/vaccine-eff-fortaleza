{
 "cells": [
  {
   "cell_type": "code",
   "execution_count": null,
   "id": "e34ce577",
   "metadata": {},
   "outputs": [],
   "source": [
    "import os\n",
    "import numpy as np\n",
    "import pandas as pd"
   ]
  },
  {
   "cell_type": "code",
   "execution_count": null,
   "id": "44ff1ca8",
   "metadata": {},
   "outputs": [],
   "source": [
    "folder_obito = os.path.join(os.environ[\"USERPROFILE\"], \"data\", \"obitos_covid19\")\n",
    "folder_vacina = os.path.join(os.environ[\"USERPROFILE\"], \"data\", \"vacinado_obito\")\n",
    "\n",
    "df_vacina = pd.read_csv(os.path.join(folder_vacina, \"vacinas_update_20jan2022.csv\"))\n",
    "df_obito = pd.read_excel(os.path.join(folder_obito, \"obitos_janeiro.xlsx\"))"
   ]
  },
  {
   "cell_type": "code",
   "execution_count": 3,
   "id": "bcbb13aa",
   "metadata": {},
   "outputs": [
    {
     "data": {
      "text/plain": [
       "3"
      ]
     },
     "execution_count": 3,
     "metadata": {},
     "output_type": "execute_result"
    }
   ],
   "source": [
    "1+2"
   ]
  },
  {
   "cell_type": "code",
   "execution_count": null,
   "id": "c7587e08",
   "metadata": {},
   "outputs": [],
   "source": []
  }
 ],
 "metadata": {
  "kernelspec": {
   "display_name": "Python 3 (ipykernel)",
   "language": "python",
   "name": "python3"
  },
  "language_info": {
   "codemirror_mode": {
    "name": "ipython",
    "version": 3
   },
   "file_extension": ".py",
   "mimetype": "text/x-python",
   "name": "python",
   "nbconvert_exporter": "python",
   "pygments_lexer": "ipython3",
   "version": "3.9.6"
  }
 },
 "nbformat": 4,
 "nbformat_minor": 5
}
