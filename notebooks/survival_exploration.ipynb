{
 "cells": [
  {
   "cell_type": "markdown",
   "metadata": {},
   "source": [
    "# Lib"
   ]
  },
  {
   "cell_type": "code",
   "execution_count": 1,
   "metadata": {},
   "outputs": [],
   "source": [
    "import os \n",
    "import pandas as pd\n",
    "import numpy as np\n",
    "import datetime as dt\n",
    "\n",
    "from lifelines import KaplanMeierFitter\n",
    "from lifelines.plotting import add_at_risk_counts\n",
    "\n",
    "import seaborn as sns\n",
    "import matplotlib.pyplot as plt\n",
    "%matplotlib inline"
   ]
  },
  {
   "cell_type": "markdown",
   "metadata": {},
   "source": [
    "# Load data"
   ]
  },
  {
   "cell_type": "code",
   "execution_count": 130,
   "metadata": {},
   "outputs": [],
   "source": [
    "fname_schema = \"SCHEMA_21JAN2021_31AUG2021.parquet\"\n",
    "obito_pares = \"PAREADOS_COM_INTERVALOS_OBITO_6.parquet\"\n",
    "hospital_pares = \"PAREADOS_COM_INTERVALOS_HOSPITAL_6.parquet\"\n",
    "#surv_obito = \"SURVIVAL_CORONAVAC_D1D2_OBITO_1.parquet\"\n",
    "#surv_hospital = \"SURVIVAL_CORONAVAC_D1D2_HOSPITAL_1.parquet\"\n",
    "\n",
    "vaccine = \"CORONAVAC\"\n",
    "data_folder = os.path.join(\"..\", \"output\", \"data\")\n",
    "pareado_folder = os.path.join(\"..\", \"output\", \"PAREAMENTO\", vaccine)\n",
    "\n",
    "fschema = pd.read_parquet(os.path.join(data_folder, fname_schema))"
   ]
  },
  {
   "cell_type": "code",
   "execution_count": 8,
   "metadata": {},
   "outputs": [
    {
     "data": {
      "text/html": [
       "<div>\n",
       "<style scoped>\n",
       "    .dataframe tbody tr th:only-of-type {\n",
       "        vertical-align: middle;\n",
       "    }\n",
       "\n",
       "    .dataframe tbody tr th {\n",
       "        vertical-align: top;\n",
       "    }\n",
       "\n",
       "    .dataframe thead th {\n",
       "        text-align: right;\n",
       "    }\n",
       "</style>\n",
       "<table border=\"1\" class=\"dataframe\">\n",
       "  <thead>\n",
       "    <tr style=\"text-align: right;\">\n",
       "      <th></th>\n",
       "      <th>CPF</th>\n",
       "      <th>DATA D1</th>\n",
       "      <th>DATA D2</th>\n",
       "      <th>DATA OBITO COVID</th>\n",
       "      <th>DATA OBITO GERAL</th>\n",
       "      <th>DATA HOSPITALIZACAO</th>\n",
       "      <th>TIPO</th>\n",
       "      <th>PAR</th>\n",
       "      <th>CASO D1 INTERVALO</th>\n",
       "      <th>CASO D1 CENSURADO</th>\n",
       "      <th>CASO D2 INTERVALO</th>\n",
       "      <th>CASO D2 CENSURADO</th>\n",
       "      <th>CONTROLE D1 INTERVALO</th>\n",
       "      <th>CONTROLE D1 CENSURADO</th>\n",
       "      <th>CONTROLE D2 INTERVALO</th>\n",
       "      <th>CONTROLE D2 CENSURADO</th>\n",
       "    </tr>\n",
       "  </thead>\n",
       "  <tbody>\n",
       "    <tr>\n",
       "      <th>0</th>\n",
       "      <td>13933680344</td>\n",
       "      <td>2021-01-21</td>\n",
       "      <td>2021-02-14</td>\n",
       "      <td>NaT</td>\n",
       "      <td>NaT</td>\n",
       "      <td>NaT</td>\n",
       "      <td>CASO</td>\n",
       "      <td>14358794300</td>\n",
       "      <td>24.0</td>\n",
       "      <td>True</td>\n",
       "      <td>48.0</td>\n",
       "      <td>True</td>\n",
       "      <td>24.0</td>\n",
       "      <td>True</td>\n",
       "      <td>48.0</td>\n",
       "      <td>True</td>\n",
       "    </tr>\n",
       "    <tr>\n",
       "      <th>2</th>\n",
       "      <td>16650700304</td>\n",
       "      <td>2021-01-21</td>\n",
       "      <td>2021-02-14</td>\n",
       "      <td>NaT</td>\n",
       "      <td>NaT</td>\n",
       "      <td>NaT</td>\n",
       "      <td>CASO</td>\n",
       "      <td>21177368315</td>\n",
       "      <td>24.0</td>\n",
       "      <td>True</td>\n",
       "      <td>80.0</td>\n",
       "      <td>True</td>\n",
       "      <td>24.0</td>\n",
       "      <td>True</td>\n",
       "      <td>80.0</td>\n",
       "      <td>True</td>\n",
       "    </tr>\n",
       "    <tr>\n",
       "      <th>4</th>\n",
       "      <td>10965394387</td>\n",
       "      <td>2021-01-21</td>\n",
       "      <td>2021-02-14</td>\n",
       "      <td>NaT</td>\n",
       "      <td>NaT</td>\n",
       "      <td>NaT</td>\n",
       "      <td>CASO</td>\n",
       "      <td>57410321334</td>\n",
       "      <td>24.0</td>\n",
       "      <td>True</td>\n",
       "      <td>46.0</td>\n",
       "      <td>True</td>\n",
       "      <td>24.0</td>\n",
       "      <td>True</td>\n",
       "      <td>46.0</td>\n",
       "      <td>True</td>\n",
       "    </tr>\n",
       "    <tr>\n",
       "      <th>6</th>\n",
       "      <td>25949160304</td>\n",
       "      <td>2021-01-21</td>\n",
       "      <td>2021-02-16</td>\n",
       "      <td>NaT</td>\n",
       "      <td>NaT</td>\n",
       "      <td>NaT</td>\n",
       "      <td>CASO</td>\n",
       "      <td>18950892391</td>\n",
       "      <td>26.0</td>\n",
       "      <td>True</td>\n",
       "      <td>44.0</td>\n",
       "      <td>True</td>\n",
       "      <td>26.0</td>\n",
       "      <td>True</td>\n",
       "      <td>44.0</td>\n",
       "      <td>True</td>\n",
       "    </tr>\n",
       "    <tr>\n",
       "      <th>8</th>\n",
       "      <td>12138070344</td>\n",
       "      <td>2021-01-22</td>\n",
       "      <td>2021-02-19</td>\n",
       "      <td>NaT</td>\n",
       "      <td>NaT</td>\n",
       "      <td>NaT</td>\n",
       "      <td>CASO</td>\n",
       "      <td>67859844320</td>\n",
       "      <td>28.0</td>\n",
       "      <td>True</td>\n",
       "      <td>89.0</td>\n",
       "      <td>True</td>\n",
       "      <td>28.0</td>\n",
       "      <td>True</td>\n",
       "      <td>89.0</td>\n",
       "      <td>True</td>\n",
       "    </tr>\n",
       "    <tr>\n",
       "      <th>...</th>\n",
       "      <td>...</td>\n",
       "      <td>...</td>\n",
       "      <td>...</td>\n",
       "      <td>...</td>\n",
       "      <td>...</td>\n",
       "      <td>...</td>\n",
       "      <td>...</td>\n",
       "      <td>...</td>\n",
       "      <td>...</td>\n",
       "      <td>...</td>\n",
       "      <td>...</td>\n",
       "      <td>...</td>\n",
       "      <td>...</td>\n",
       "      <td>...</td>\n",
       "      <td>...</td>\n",
       "      <td>...</td>\n",
       "    </tr>\n",
       "    <tr>\n",
       "      <th>332416</th>\n",
       "      <td>17427690397</td>\n",
       "      <td>2021-08-31</td>\n",
       "      <td>2021-09-28</td>\n",
       "      <td>NaT</td>\n",
       "      <td>NaT</td>\n",
       "      <td>NaT</td>\n",
       "      <td>CASO</td>\n",
       "      <td>09062071856</td>\n",
       "      <td>0.0</td>\n",
       "      <td>True</td>\n",
       "      <td>NaN</td>\n",
       "      <td>True</td>\n",
       "      <td>0.0</td>\n",
       "      <td>True</td>\n",
       "      <td>NaN</td>\n",
       "      <td>True</td>\n",
       "    </tr>\n",
       "    <tr>\n",
       "      <th>332418</th>\n",
       "      <td>73939463353</td>\n",
       "      <td>2021-08-31</td>\n",
       "      <td>2021-10-18</td>\n",
       "      <td>NaT</td>\n",
       "      <td>NaT</td>\n",
       "      <td>NaT</td>\n",
       "      <td>CASO</td>\n",
       "      <td>36293148304</td>\n",
       "      <td>0.0</td>\n",
       "      <td>True</td>\n",
       "      <td>NaN</td>\n",
       "      <td>True</td>\n",
       "      <td>0.0</td>\n",
       "      <td>True</td>\n",
       "      <td>NaN</td>\n",
       "      <td>True</td>\n",
       "    </tr>\n",
       "    <tr>\n",
       "      <th>332420</th>\n",
       "      <td>97524514387</td>\n",
       "      <td>2021-08-31</td>\n",
       "      <td>2021-10-06</td>\n",
       "      <td>NaT</td>\n",
       "      <td>NaT</td>\n",
       "      <td>NaT</td>\n",
       "      <td>CASO</td>\n",
       "      <td>19454996304</td>\n",
       "      <td>0.0</td>\n",
       "      <td>True</td>\n",
       "      <td>NaN</td>\n",
       "      <td>True</td>\n",
       "      <td>0.0</td>\n",
       "      <td>True</td>\n",
       "      <td>NaN</td>\n",
       "      <td>True</td>\n",
       "    </tr>\n",
       "    <tr>\n",
       "      <th>332422</th>\n",
       "      <td>31823572391</td>\n",
       "      <td>2021-08-31</td>\n",
       "      <td>2021-10-01</td>\n",
       "      <td>NaT</td>\n",
       "      <td>NaT</td>\n",
       "      <td>NaT</td>\n",
       "      <td>CASO</td>\n",
       "      <td>17246636315</td>\n",
       "      <td>0.0</td>\n",
       "      <td>True</td>\n",
       "      <td>NaN</td>\n",
       "      <td>True</td>\n",
       "      <td>0.0</td>\n",
       "      <td>True</td>\n",
       "      <td>NaN</td>\n",
       "      <td>True</td>\n",
       "    </tr>\n",
       "    <tr>\n",
       "      <th>332424</th>\n",
       "      <td>63368641387</td>\n",
       "      <td>2021-08-31</td>\n",
       "      <td>2021-09-28</td>\n",
       "      <td>NaT</td>\n",
       "      <td>NaT</td>\n",
       "      <td>NaT</td>\n",
       "      <td>CASO</td>\n",
       "      <td>77789482734</td>\n",
       "      <td>0.0</td>\n",
       "      <td>True</td>\n",
       "      <td>NaN</td>\n",
       "      <td>True</td>\n",
       "      <td>0.0</td>\n",
       "      <td>True</td>\n",
       "      <td>NaN</td>\n",
       "      <td>True</td>\n",
       "    </tr>\n",
       "  </tbody>\n",
       "</table>\n",
       "<p>166212 rows × 16 columns</p>\n",
       "</div>"
      ],
      "text/plain": [
       "                CPF    DATA D1    DATA D2 DATA OBITO COVID DATA OBITO GERAL  \\\n",
       "0       13933680344 2021-01-21 2021-02-14              NaT              NaT   \n",
       "2       16650700304 2021-01-21 2021-02-14              NaT              NaT   \n",
       "4       10965394387 2021-01-21 2021-02-14              NaT              NaT   \n",
       "6       25949160304 2021-01-21 2021-02-16              NaT              NaT   \n",
       "8       12138070344 2021-01-22 2021-02-19              NaT              NaT   \n",
       "...             ...        ...        ...              ...              ...   \n",
       "332416  17427690397 2021-08-31 2021-09-28              NaT              NaT   \n",
       "332418  73939463353 2021-08-31 2021-10-18              NaT              NaT   \n",
       "332420  97524514387 2021-08-31 2021-10-06              NaT              NaT   \n",
       "332422  31823572391 2021-08-31 2021-10-01              NaT              NaT   \n",
       "332424  63368641387 2021-08-31 2021-09-28              NaT              NaT   \n",
       "\n",
       "       DATA HOSPITALIZACAO  TIPO          PAR  CASO D1 INTERVALO  \\\n",
       "0                      NaT  CASO  14358794300               24.0   \n",
       "2                      NaT  CASO  21177368315               24.0   \n",
       "4                      NaT  CASO  57410321334               24.0   \n",
       "6                      NaT  CASO  18950892391               26.0   \n",
       "8                      NaT  CASO  67859844320               28.0   \n",
       "...                    ...   ...          ...                ...   \n",
       "332416                 NaT  CASO  09062071856                0.0   \n",
       "332418                 NaT  CASO  36293148304                0.0   \n",
       "332420                 NaT  CASO  19454996304                0.0   \n",
       "332422                 NaT  CASO  17246636315                0.0   \n",
       "332424                 NaT  CASO  77789482734                0.0   \n",
       "\n",
       "        CASO D1 CENSURADO  CASO D2 INTERVALO CASO D2 CENSURADO  \\\n",
       "0                    True               48.0              True   \n",
       "2                    True               80.0              True   \n",
       "4                    True               46.0              True   \n",
       "6                    True               44.0              True   \n",
       "8                    True               89.0              True   \n",
       "...                   ...                ...               ...   \n",
       "332416               True                NaN              True   \n",
       "332418               True                NaN              True   \n",
       "332420               True                NaN              True   \n",
       "332422               True                NaN              True   \n",
       "332424               True                NaN              True   \n",
       "\n",
       "        CONTROLE D1 INTERVALO  CONTROLE D1 CENSURADO  CONTROLE D2 INTERVALO  \\\n",
       "0                        24.0                   True                   48.0   \n",
       "2                        24.0                   True                   80.0   \n",
       "4                        24.0                   True                   46.0   \n",
       "6                        26.0                   True                   44.0   \n",
       "8                        28.0                   True                   89.0   \n",
       "...                       ...                    ...                    ...   \n",
       "332416                    0.0                   True                    NaN   \n",
       "332418                    0.0                   True                    NaN   \n",
       "332420                    0.0                   True                    NaN   \n",
       "332422                    0.0                   True                    NaN   \n",
       "332424                    0.0                   True                    NaN   \n",
       "\n",
       "       CONTROLE D2 CENSURADO  \n",
       "0                       True  \n",
       "2                       True  \n",
       "4                       True  \n",
       "6                       True  \n",
       "8                       True  \n",
       "...                      ...  \n",
       "332416                  True  \n",
       "332418                  True  \n",
       "332420                  True  \n",
       "332422                  True  \n",
       "332424                  True  \n",
       "\n",
       "[166212 rows x 16 columns]"
      ]
     },
     "execution_count": 8,
     "metadata": {},
     "output_type": "execute_result"
    }
   ],
   "source": [
    "obito_df = pd.read_parquet(os.path.join(pareado_folder, obito_pares))\n",
    "obito_df"
   ]
  },
  {
   "cell_type": "code",
   "execution_count": 3,
   "metadata": {},
   "outputs": [],
   "source": [
    "pares = pd.read_parquet(os.path.join(pareado_folder, \"EVENTOS_PAREADOS_1.parquet\"))"
   ]
  },
  {
   "cell_type": "code",
   "execution_count": 5,
   "metadata": {},
   "outputs": [
    {
     "data": {
      "text/html": [
       "<div>\n",
       "<style scoped>\n",
       "    .dataframe tbody tr th:only-of-type {\n",
       "        vertical-align: middle;\n",
       "    }\n",
       "\n",
       "    .dataframe tbody tr th {\n",
       "        vertical-align: top;\n",
       "    }\n",
       "\n",
       "    .dataframe thead th {\n",
       "        text-align: right;\n",
       "    }\n",
       "</style>\n",
       "<table border=\"1\" class=\"dataframe\">\n",
       "  <thead>\n",
       "    <tr style=\"text-align: right;\">\n",
       "      <th></th>\n",
       "      <th>CPF</th>\n",
       "      <th>DATA D1</th>\n",
       "      <th>DATA D2</th>\n",
       "      <th>DATA OBITO COVID</th>\n",
       "      <th>DATA OBITO GERAL</th>\n",
       "      <th>DATA HOSPITALIZACAO</th>\n",
       "      <th>TIPO</th>\n",
       "      <th>PAR</th>\n",
       "      <th>PAREADO</th>\n",
       "    </tr>\n",
       "  </thead>\n",
       "  <tbody>\n",
       "    <tr>\n",
       "      <th>24</th>\n",
       "      <td>21459789334</td>\n",
       "      <td>2021-01-22</td>\n",
       "      <td>2021-03-25</td>\n",
       "      <td>NaT</td>\n",
       "      <td>NaT</td>\n",
       "      <td>[2021-02-22T00:00:00.000000]</td>\n",
       "      <td>CASO</td>\n",
       "      <td>35693797368</td>\n",
       "      <td>True</td>\n",
       "    </tr>\n",
       "    <tr>\n",
       "      <th>56</th>\n",
       "      <td>06865860349</td>\n",
       "      <td>2021-01-22</td>\n",
       "      <td>2021-03-03</td>\n",
       "      <td>NaT</td>\n",
       "      <td>NaT</td>\n",
       "      <td>[2021-01-31T00:00:00.000000]</td>\n",
       "      <td>CASO</td>\n",
       "      <td>61364661390</td>\n",
       "      <td>True</td>\n",
       "    </tr>\n",
       "    <tr>\n",
       "      <th>360</th>\n",
       "      <td>14397714304</td>\n",
       "      <td>2021-01-24</td>\n",
       "      <td>2021-02-21</td>\n",
       "      <td>NaT</td>\n",
       "      <td>NaT</td>\n",
       "      <td>[2021-03-04T00:00:00.000000]</td>\n",
       "      <td>CASO</td>\n",
       "      <td>12024481353</td>\n",
       "      <td>True</td>\n",
       "    </tr>\n",
       "    <tr>\n",
       "      <th>362</th>\n",
       "      <td>12313017320</td>\n",
       "      <td>2021-01-24</td>\n",
       "      <td>2021-03-17</td>\n",
       "      <td>NaT</td>\n",
       "      <td>NaT</td>\n",
       "      <td>[2021-02-18T00:00:00.000000]</td>\n",
       "      <td>CASO</td>\n",
       "      <td>38168251334</td>\n",
       "      <td>True</td>\n",
       "    </tr>\n",
       "    <tr>\n",
       "      <th>562</th>\n",
       "      <td>21303053349</td>\n",
       "      <td>2021-01-25</td>\n",
       "      <td>2021-02-22</td>\n",
       "      <td>NaT</td>\n",
       "      <td>NaT</td>\n",
       "      <td>[2021-03-07T00:00:00.000000]</td>\n",
       "      <td>CASO</td>\n",
       "      <td>02343205833</td>\n",
       "      <td>True</td>\n",
       "    </tr>\n",
       "    <tr>\n",
       "      <th>...</th>\n",
       "      <td>...</td>\n",
       "      <td>...</td>\n",
       "      <td>...</td>\n",
       "      <td>...</td>\n",
       "      <td>...</td>\n",
       "      <td>...</td>\n",
       "      <td>...</td>\n",
       "      <td>...</td>\n",
       "      <td>...</td>\n",
       "    </tr>\n",
       "    <tr>\n",
       "      <th>248928</th>\n",
       "      <td>19478429353</td>\n",
       "      <td>2021-07-30</td>\n",
       "      <td>NaT</td>\n",
       "      <td>NaT</td>\n",
       "      <td>NaT</td>\n",
       "      <td>[2021-03-02T00:00:00.000000]</td>\n",
       "      <td>CASO</td>\n",
       "      <td>21519021100</td>\n",
       "      <td>True</td>\n",
       "    </tr>\n",
       "    <tr>\n",
       "      <th>249036</th>\n",
       "      <td>87888556353</td>\n",
       "      <td>2021-08-06</td>\n",
       "      <td>2021-09-02</td>\n",
       "      <td>NaT</td>\n",
       "      <td>NaT</td>\n",
       "      <td>[2021-02-25T00:00:00.000000]</td>\n",
       "      <td>CASO</td>\n",
       "      <td>35885602387</td>\n",
       "      <td>True</td>\n",
       "    </tr>\n",
       "    <tr>\n",
       "      <th>249074</th>\n",
       "      <td>15548660306</td>\n",
       "      <td>2021-08-08</td>\n",
       "      <td>2021-09-07</td>\n",
       "      <td>NaT</td>\n",
       "      <td>NaT</td>\n",
       "      <td>[2021-05-14T00:00:00.000000]</td>\n",
       "      <td>CASO</td>\n",
       "      <td>11693444291</td>\n",
       "      <td>True</td>\n",
       "    </tr>\n",
       "    <tr>\n",
       "      <th>249118</th>\n",
       "      <td>22846581304</td>\n",
       "      <td>2021-08-10</td>\n",
       "      <td>2021-09-06</td>\n",
       "      <td>NaT</td>\n",
       "      <td>NaT</td>\n",
       "      <td>[2021-05-07T00:00:00.000000]</td>\n",
       "      <td>CASO</td>\n",
       "      <td>23053356368</td>\n",
       "      <td>True</td>\n",
       "    </tr>\n",
       "    <tr>\n",
       "      <th>249292</th>\n",
       "      <td>16697391391</td>\n",
       "      <td>2021-08-27</td>\n",
       "      <td>2021-09-24</td>\n",
       "      <td>NaT</td>\n",
       "      <td>NaT</td>\n",
       "      <td>[2021-03-16T00:00:00.000000]</td>\n",
       "      <td>CASO</td>\n",
       "      <td>35985275353</td>\n",
       "      <td>True</td>\n",
       "    </tr>\n",
       "  </tbody>\n",
       "</table>\n",
       "<p>1335 rows × 9 columns</p>\n",
       "</div>"
      ],
      "text/plain": [
       "                CPF    DATA D1    DATA D2 DATA OBITO COVID DATA OBITO GERAL  \\\n",
       "24      21459789334 2021-01-22 2021-03-25              NaT              NaT   \n",
       "56      06865860349 2021-01-22 2021-03-03              NaT              NaT   \n",
       "360     14397714304 2021-01-24 2021-02-21              NaT              NaT   \n",
       "362     12313017320 2021-01-24 2021-03-17              NaT              NaT   \n",
       "562     21303053349 2021-01-25 2021-02-22              NaT              NaT   \n",
       "...             ...        ...        ...              ...              ...   \n",
       "248928  19478429353 2021-07-30        NaT              NaT              NaT   \n",
       "249036  87888556353 2021-08-06 2021-09-02              NaT              NaT   \n",
       "249074  15548660306 2021-08-08 2021-09-07              NaT              NaT   \n",
       "249118  22846581304 2021-08-10 2021-09-06              NaT              NaT   \n",
       "249292  16697391391 2021-08-27 2021-09-24              NaT              NaT   \n",
       "\n",
       "                 DATA HOSPITALIZACAO  TIPO          PAR  PAREADO  \n",
       "24      [2021-02-22T00:00:00.000000]  CASO  35693797368     True  \n",
       "56      [2021-01-31T00:00:00.000000]  CASO  61364661390     True  \n",
       "360     [2021-03-04T00:00:00.000000]  CASO  12024481353     True  \n",
       "362     [2021-02-18T00:00:00.000000]  CASO  38168251334     True  \n",
       "562     [2021-03-07T00:00:00.000000]  CASO  02343205833     True  \n",
       "...                              ...   ...          ...      ...  \n",
       "248928  [2021-03-02T00:00:00.000000]  CASO  21519021100     True  \n",
       "249036  [2021-02-25T00:00:00.000000]  CASO  35885602387     True  \n",
       "249074  [2021-05-14T00:00:00.000000]  CASO  11693444291     True  \n",
       "249118  [2021-05-07T00:00:00.000000]  CASO  23053356368     True  \n",
       "249292  [2021-03-16T00:00:00.000000]  CASO  35985275353     True  \n",
       "\n",
       "[1335 rows x 9 columns]"
      ]
     },
     "execution_count": 5,
     "metadata": {},
     "output_type": "execute_result"
    }
   ],
   "source": [
    "condition = (pares[\"TIPO\"]==\"CASO\") & (pd.notna(pares[\"DATA HOSPITALIZACAO\"]) & (pares[\"PAREADO\"]==True))\n",
    "pares[condition]"
   ]
  },
  {
   "cell_type": "code",
   "execution_count": 6,
   "metadata": {},
   "outputs": [
    {
     "data": {
      "text/html": [
       "<div>\n",
       "<style scoped>\n",
       "    .dataframe tbody tr th:only-of-type {\n",
       "        vertical-align: middle;\n",
       "    }\n",
       "\n",
       "    .dataframe tbody tr th {\n",
       "        vertical-align: top;\n",
       "    }\n",
       "\n",
       "    .dataframe thead th {\n",
       "        text-align: right;\n",
       "    }\n",
       "</style>\n",
       "<table border=\"1\" class=\"dataframe\">\n",
       "  <thead>\n",
       "    <tr style=\"text-align: right;\">\n",
       "      <th></th>\n",
       "      <th>CPF</th>\n",
       "      <th>DATA D1</th>\n",
       "      <th>DATA D2</th>\n",
       "      <th>DATA OBITO COVID</th>\n",
       "      <th>DATA OBITO GERAL</th>\n",
       "      <th>DATA HOSPITALIZACAO</th>\n",
       "      <th>TIPO</th>\n",
       "      <th>PAR</th>\n",
       "      <th>PAREADO</th>\n",
       "    </tr>\n",
       "  </thead>\n",
       "  <tbody>\n",
       "    <tr>\n",
       "      <th>81</th>\n",
       "      <td>05901243315</td>\n",
       "      <td>2021-04-01</td>\n",
       "      <td>2021-06-06</td>\n",
       "      <td>NaT</td>\n",
       "      <td>NaT</td>\n",
       "      <td>[2021-05-03T00:00:00.000000]</td>\n",
       "      <td>CONTROLE</td>\n",
       "      <td>12767360453</td>\n",
       "      <td>True</td>\n",
       "    </tr>\n",
       "    <tr>\n",
       "      <th>283</th>\n",
       "      <td>45522146320</td>\n",
       "      <td>2021-03-31</td>\n",
       "      <td>2021-05-08</td>\n",
       "      <td>NaT</td>\n",
       "      <td>NaT</td>\n",
       "      <td>[2021-02-23T00:00:00.000000]</td>\n",
       "      <td>CONTROLE</td>\n",
       "      <td>10496580353</td>\n",
       "      <td>True</td>\n",
       "    </tr>\n",
       "    <tr>\n",
       "      <th>363</th>\n",
       "      <td>38168251334</td>\n",
       "      <td>2021-04-02</td>\n",
       "      <td>2021-05-15</td>\n",
       "      <td>NaT</td>\n",
       "      <td>NaT</td>\n",
       "      <td>[2021-04-20T00:00:00.000000]</td>\n",
       "      <td>CONTROLE</td>\n",
       "      <td>12313017320</td>\n",
       "      <td>True</td>\n",
       "    </tr>\n",
       "    <tr>\n",
       "      <th>623</th>\n",
       "      <td>28607775200</td>\n",
       "      <td>NaT</td>\n",
       "      <td>NaT</td>\n",
       "      <td>2021-05-02</td>\n",
       "      <td>NaT</td>\n",
       "      <td>[2021-04-28T00:00:00.000000]</td>\n",
       "      <td>CONTROLE</td>\n",
       "      <td>31010946315</td>\n",
       "      <td>True</td>\n",
       "    </tr>\n",
       "    <tr>\n",
       "      <th>777</th>\n",
       "      <td>46430695387</td>\n",
       "      <td>NaT</td>\n",
       "      <td>NaT</td>\n",
       "      <td>NaT</td>\n",
       "      <td>2021-04-17</td>\n",
       "      <td>[2021-03-25T00:00:00.000000]</td>\n",
       "      <td>CONTROLE</td>\n",
       "      <td>38123282320</td>\n",
       "      <td>True</td>\n",
       "    </tr>\n",
       "    <tr>\n",
       "      <th>...</th>\n",
       "      <td>...</td>\n",
       "      <td>...</td>\n",
       "      <td>...</td>\n",
       "      <td>...</td>\n",
       "      <td>...</td>\n",
       "      <td>...</td>\n",
       "      <td>...</td>\n",
       "      <td>...</td>\n",
       "      <td>...</td>\n",
       "    </tr>\n",
       "    <tr>\n",
       "      <th>248225</th>\n",
       "      <td>47995807368</td>\n",
       "      <td>NaT</td>\n",
       "      <td>NaT</td>\n",
       "      <td>2021-04-27</td>\n",
       "      <td>NaT</td>\n",
       "      <td>[2021-04-18T00:00:00.000000]</td>\n",
       "      <td>CONTROLE</td>\n",
       "      <td>11534877304</td>\n",
       "      <td>True</td>\n",
       "    </tr>\n",
       "    <tr>\n",
       "      <th>248247</th>\n",
       "      <td>20462700372</td>\n",
       "      <td>NaT</td>\n",
       "      <td>NaT</td>\n",
       "      <td>2021-04-08</td>\n",
       "      <td>NaT</td>\n",
       "      <td>[2021-03-25T00:00:00.000000]</td>\n",
       "      <td>CONTROLE</td>\n",
       "      <td>79357938320</td>\n",
       "      <td>True</td>\n",
       "    </tr>\n",
       "    <tr>\n",
       "      <th>248435</th>\n",
       "      <td>16701933300</td>\n",
       "      <td>NaT</td>\n",
       "      <td>NaT</td>\n",
       "      <td>NaT</td>\n",
       "      <td>2021-07-29</td>\n",
       "      <td>[2021-03-18T00:00:00.000000]</td>\n",
       "      <td>CONTROLE</td>\n",
       "      <td>43115608349</td>\n",
       "      <td>True</td>\n",
       "    </tr>\n",
       "    <tr>\n",
       "      <th>248943</th>\n",
       "      <td>14195895391</td>\n",
       "      <td>NaT</td>\n",
       "      <td>NaT</td>\n",
       "      <td>NaT</td>\n",
       "      <td>NaT</td>\n",
       "      <td>[2021-05-22T00:00:00.000000]</td>\n",
       "      <td>CONTROLE</td>\n",
       "      <td>41134591349</td>\n",
       "      <td>True</td>\n",
       "    </tr>\n",
       "    <tr>\n",
       "      <th>248957</th>\n",
       "      <td>22968660349</td>\n",
       "      <td>NaT</td>\n",
       "      <td>NaT</td>\n",
       "      <td>NaT</td>\n",
       "      <td>NaT</td>\n",
       "      <td>[2021-03-30T00:00:00.000000]</td>\n",
       "      <td>CONTROLE</td>\n",
       "      <td>70381771334</td>\n",
       "      <td>True</td>\n",
       "    </tr>\n",
       "  </tbody>\n",
       "</table>\n",
       "<p>1868 rows × 9 columns</p>\n",
       "</div>"
      ],
      "text/plain": [
       "                CPF    DATA D1    DATA D2 DATA OBITO COVID DATA OBITO GERAL  \\\n",
       "81      05901243315 2021-04-01 2021-06-06              NaT              NaT   \n",
       "283     45522146320 2021-03-31 2021-05-08              NaT              NaT   \n",
       "363     38168251334 2021-04-02 2021-05-15              NaT              NaT   \n",
       "623     28607775200        NaT        NaT       2021-05-02              NaT   \n",
       "777     46430695387        NaT        NaT              NaT       2021-04-17   \n",
       "...             ...        ...        ...              ...              ...   \n",
       "248225  47995807368        NaT        NaT       2021-04-27              NaT   \n",
       "248247  20462700372        NaT        NaT       2021-04-08              NaT   \n",
       "248435  16701933300        NaT        NaT              NaT       2021-07-29   \n",
       "248943  14195895391        NaT        NaT              NaT              NaT   \n",
       "248957  22968660349        NaT        NaT              NaT              NaT   \n",
       "\n",
       "                 DATA HOSPITALIZACAO      TIPO          PAR  PAREADO  \n",
       "81      [2021-05-03T00:00:00.000000]  CONTROLE  12767360453     True  \n",
       "283     [2021-02-23T00:00:00.000000]  CONTROLE  10496580353     True  \n",
       "363     [2021-04-20T00:00:00.000000]  CONTROLE  12313017320     True  \n",
       "623     [2021-04-28T00:00:00.000000]  CONTROLE  31010946315     True  \n",
       "777     [2021-03-25T00:00:00.000000]  CONTROLE  38123282320     True  \n",
       "...                              ...       ...          ...      ...  \n",
       "248225  [2021-04-18T00:00:00.000000]  CONTROLE  11534877304     True  \n",
       "248247  [2021-03-25T00:00:00.000000]  CONTROLE  79357938320     True  \n",
       "248435  [2021-03-18T00:00:00.000000]  CONTROLE  43115608349     True  \n",
       "248943  [2021-05-22T00:00:00.000000]  CONTROLE  41134591349     True  \n",
       "248957  [2021-03-30T00:00:00.000000]  CONTROLE  70381771334     True  \n",
       "\n",
       "[1868 rows x 9 columns]"
      ]
     },
     "execution_count": 6,
     "metadata": {},
     "output_type": "execute_result"
    }
   ],
   "source": [
    "condition = (pares[\"TIPO\"]==\"CONTROLE\") & (pd.notna(pares[\"DATA HOSPITALIZACAO\"]) & (pares[\"PAREADO\"]==True))\n",
    "pares[condition]"
   ]
  },
  {
   "cell_type": "code",
   "execution_count": 7,
   "metadata": {},
   "outputs": [
    {
     "data": {
      "text/plain": [
       "0.7146680942184154"
      ]
     },
     "execution_count": 7,
     "metadata": {},
     "output_type": "execute_result"
    }
   ],
   "source": [
    "1335/1868"
   ]
  },
  {
   "cell_type": "code",
   "execution_count": 6,
   "metadata": {},
   "outputs": [
    {
     "data": {
      "text/html": [
       "<div>\n",
       "<style scoped>\n",
       "    .dataframe tbody tr th:only-of-type {\n",
       "        vertical-align: middle;\n",
       "    }\n",
       "\n",
       "    .dataframe tbody tr th {\n",
       "        vertical-align: top;\n",
       "    }\n",
       "\n",
       "    .dataframe thead th {\n",
       "        text-align: right;\n",
       "    }\n",
       "</style>\n",
       "<table border=\"1\" class=\"dataframe\">\n",
       "  <thead>\n",
       "    <tr style=\"text-align: right;\">\n",
       "      <th></th>\n",
       "      <th>CPF</th>\n",
       "      <th>TIPO</th>\n",
       "      <th>t - D1 OBITO</th>\n",
       "      <th>E - D1 OBITO</th>\n",
       "      <th>t - D2 OBITO</th>\n",
       "      <th>E - D2 OBITO</th>\n",
       "      <th>BAIRRO</th>\n",
       "      <th>IDADE</th>\n",
       "      <th>SEXO</th>\n",
       "      <th>AGE ELIGIBLE</th>\n",
       "    </tr>\n",
       "  </thead>\n",
       "  <tbody>\n",
       "    <tr>\n",
       "      <th>125076</th>\n",
       "      <td>12322393304</td>\n",
       "      <td>CASO</td>\n",
       "      <td>2.0</td>\n",
       "      <td>False</td>\n",
       "      <td>NaN</td>\n",
       "      <td>False</td>\n",
       "      <td>CANINDEZINHO</td>\n",
       "      <td>71</td>\n",
       "      <td>M</td>\n",
       "      <td>False</td>\n",
       "    </tr>\n",
       "    <tr>\n",
       "      <th>154614</th>\n",
       "      <td>09093419315</td>\n",
       "      <td>CASO</td>\n",
       "      <td>29.0</td>\n",
       "      <td>False</td>\n",
       "      <td>128.0</td>\n",
       "      <td>False</td>\n",
       "      <td>JOAQUIM TAVORA</td>\n",
       "      <td>69</td>\n",
       "      <td>M</td>\n",
       "      <td>False</td>\n",
       "    </tr>\n",
       "    <tr>\n",
       "      <th>112492</th>\n",
       "      <td>05957508349</td>\n",
       "      <td>CASO</td>\n",
       "      <td>2.0</td>\n",
       "      <td>False</td>\n",
       "      <td>NaN</td>\n",
       "      <td>False</td>\n",
       "      <td>DIONISIO TORRES</td>\n",
       "      <td>71</td>\n",
       "      <td>F</td>\n",
       "      <td>False</td>\n",
       "    </tr>\n",
       "    <tr>\n",
       "      <th>109402</th>\n",
       "      <td>13928503391</td>\n",
       "      <td>CASO</td>\n",
       "      <td>21.0</td>\n",
       "      <td>False</td>\n",
       "      <td>138.0</td>\n",
       "      <td>False</td>\n",
       "      <td>MANOEL SATIRO</td>\n",
       "      <td>75</td>\n",
       "      <td>F</td>\n",
       "      <td>False</td>\n",
       "    </tr>\n",
       "    <tr>\n",
       "      <th>64756</th>\n",
       "      <td>89638115300</td>\n",
       "      <td>CASO</td>\n",
       "      <td>4.0</td>\n",
       "      <td>False</td>\n",
       "      <td>NaN</td>\n",
       "      <td>False</td>\n",
       "      <td>CIDADE DOS FUNCIONARIOS</td>\n",
       "      <td>75</td>\n",
       "      <td>F</td>\n",
       "      <td>False</td>\n",
       "    </tr>\n",
       "    <tr>\n",
       "      <th>70102</th>\n",
       "      <td>43366074353</td>\n",
       "      <td>CASO</td>\n",
       "      <td>3.0</td>\n",
       "      <td>False</td>\n",
       "      <td>0.0</td>\n",
       "      <td>False</td>\n",
       "      <td>CONJUNTO PALMEIRAS</td>\n",
       "      <td>76</td>\n",
       "      <td>M</td>\n",
       "      <td>False</td>\n",
       "    </tr>\n",
       "    <tr>\n",
       "      <th>219094</th>\n",
       "      <td>38978989349</td>\n",
       "      <td>CASO</td>\n",
       "      <td>44.0</td>\n",
       "      <td>False</td>\n",
       "      <td>107.0</td>\n",
       "      <td>False</td>\n",
       "      <td>BONSUCESSO</td>\n",
       "      <td>63</td>\n",
       "      <td>F</td>\n",
       "      <td>False</td>\n",
       "    </tr>\n",
       "    <tr>\n",
       "      <th>246028</th>\n",
       "      <td>15584763349</td>\n",
       "      <td>CASO</td>\n",
       "      <td>38.0</td>\n",
       "      <td>False</td>\n",
       "      <td>NaN</td>\n",
       "      <td>False</td>\n",
       "      <td>NÃO INFOMRADO</td>\n",
       "      <td>63</td>\n",
       "      <td>M</td>\n",
       "      <td>False</td>\n",
       "    </tr>\n",
       "    <tr>\n",
       "      <th>47672</th>\n",
       "      <td>28438485391</td>\n",
       "      <td>CASO</td>\n",
       "      <td>15.0</td>\n",
       "      <td>False</td>\n",
       "      <td>3.0</td>\n",
       "      <td>False</td>\n",
       "      <td>PASSARE</td>\n",
       "      <td>91</td>\n",
       "      <td>F</td>\n",
       "      <td>True</td>\n",
       "    </tr>\n",
       "    <tr>\n",
       "      <th>190576</th>\n",
       "      <td>37289950704</td>\n",
       "      <td>CASO</td>\n",
       "      <td>34.0</td>\n",
       "      <td>False</td>\n",
       "      <td>6.0</td>\n",
       "      <td>False</td>\n",
       "      <td>JARDIM GUANABARA</td>\n",
       "      <td>68</td>\n",
       "      <td>M</td>\n",
       "      <td>False</td>\n",
       "    </tr>\n",
       "  </tbody>\n",
       "</table>\n",
       "</div>"
      ],
      "text/plain": [
       "                CPF  TIPO  t - D1 OBITO  E - D1 OBITO  t - D2 OBITO  \\\n",
       "125076  12322393304  CASO           2.0         False           NaN   \n",
       "154614  09093419315  CASO          29.0         False         128.0   \n",
       "112492  05957508349  CASO           2.0         False           NaN   \n",
       "109402  13928503391  CASO          21.0         False         138.0   \n",
       "64756   89638115300  CASO           4.0         False           NaN   \n",
       "70102   43366074353  CASO           3.0         False           0.0   \n",
       "219094  38978989349  CASO          44.0         False         107.0   \n",
       "246028  15584763349  CASO          38.0         False           NaN   \n",
       "47672   28438485391  CASO          15.0         False           3.0   \n",
       "190576  37289950704  CASO          34.0         False           6.0   \n",
       "\n",
       "        E - D2 OBITO                   BAIRRO  IDADE SEXO  AGE ELIGIBLE  \n",
       "125076         False             CANINDEZINHO     71    M         False  \n",
       "154614         False           JOAQUIM TAVORA     69    M         False  \n",
       "112492         False          DIONISIO TORRES     71    F         False  \n",
       "109402         False            MANOEL SATIRO     75    F         False  \n",
       "64756          False  CIDADE DOS FUNCIONARIOS     75    F         False  \n",
       "70102          False       CONJUNTO PALMEIRAS     76    M         False  \n",
       "219094         False               BONSUCESSO     63    F         False  \n",
       "246028         False            NÃO INFOMRADO     63    M         False  \n",
       "47672          False                  PASSARE     91    F          True  \n",
       "190576         False         JARDIM GUANABARA     68    M         False  "
      ]
     },
     "execution_count": 6,
     "metadata": {},
     "output_type": "execute_result"
    }
   ],
   "source": [
    "fsurv = obito.fsurvival\n",
    "caso = fsurv[fsurv[\"TIPO\"]==\"CASO\"]\n",
    "controle = fsurv[fsurv[\"TIPO\"]==\"CONTROLE\"]\n",
    "caso.sample(n=10, replace=True)"
   ]
  },
  {
   "cell_type": "markdown",
   "metadata": {},
   "source": [
    "## Lifelines tests"
   ]
  },
  {
   "cell_type": "code",
   "execution_count": 4,
   "metadata": {},
   "outputs": [
    {
     "name": "stderr",
     "output_type": "stream",
     "text": [
      "100%|████████████████████████████████████████████████████████████████████████████████| 200/200 [04:39<00:00,  1.40s/it]\n",
      "100%|████████████████████████████████████████████████████████████████████████████████| 200/200 [04:29<00:00,  1.35s/it]\n"
     ]
    }
   ],
   "source": [
    "%run ../ve_estimate.py"
   ]
  },
  {
   "cell_type": "code",
   "execution_count": 73,
   "metadata": {},
   "outputs": [
    {
     "data": {
      "text/plain": [
       "Index(['NOME', 'CPF', 'CNS', 'DATA NASCIMENTO', 'NOME MAE', 'CEP', 'BAIRRO',\n",
       "       'SEXO', 'SITUACAO VACINEJA', 'cpf LINKAGE VACINADOS',\n",
       "       'id LINKAGE INTEGRASUS', 'ordem LINKAGE OBITO COVID',\n",
       "       'cpf LINKAGE CARTORIOS', 'primary key LINKAGE SIVEP',\n",
       "       'TESTE POSITIVO ANTES COORTE', 'POSITIVOS COLETA DATA',\n",
       "       'POSITIVOS SOLICITACAO DATA', 'VACINA APLICADA', 'DATA D1', 'DATA D2',\n",
       "       'DATA D3', 'DATA D4', 'GRUPO PRIORITARIO', 'ORDEM(OBITO COVID)',\n",
       "       'NUMERODO(OBITO COVID)', 'DATA PRI SINTOMAS(OBITO COVID)', 'DATA OBITO',\n",
       "       'DATA FALECIMENTO(CARTORIOS)', 'NUMERODO(CARTORIOS)',\n",
       "       'DATA NOTIFICACAO SIVEP', 'DATA INTERNACAO', 'EVOLUCAO',\n",
       "       'DATA EVOLUCAO', 'UTI', 'DT_ENTUTI', 'COLETA APOS OBITO',\n",
       "       'SOLICITACAO APOS OBITO', 'OBITO INCONSISTENCIA COVID',\n",
       "       'OBITO INCONSISTENCIA CARTORIOS', 'STATUS VACINACAO DURANTE COORTE',\n",
       "       'STATUS VACINACAO', 'IDADE', 'DATA HOSPITALIZACAO',\n",
       "       'OBITO ANTES COORTE', 'HOSPITALIZACAO ANTES COORTE'],\n",
       "      dtype='object')"
      ]
     },
     "execution_count": 73,
     "metadata": {},
     "output_type": "execute_result"
    }
   ],
   "source": [
    "fschema.columns"
   ]
  },
  {
   "cell_type": "code",
   "execution_count": 20,
   "metadata": {},
   "outputs": [
    {
     "data": {
      "text/plain": [
       "0.29532163742690054"
      ]
     },
     "execution_count": 20,
     "metadata": {},
     "output_type": "execute_result"
    }
   ],
   "source": [
    "1-(241/342)"
   ]
  },
  {
   "cell_type": "code",
   "execution_count": 19,
   "metadata": {},
   "outputs": [],
   "source": [
    "fschema_astra = fschema[fschema[\"VACINA APLICADA\"]==\"ASTRAZENECA\"]\n",
    "fschema_cor = fschema[fschema[\"VACINA APLICADA\"]==\"CORONAVAC\"]\n",
    "fschema_pfizer = fschema[fschema[\"VACINA APLICADA\"]==\"PFIZER\"]"
   ]
  },
  {
   "cell_type": "code",
   "execution_count": 16,
   "metadata": {},
   "outputs": [
    {
     "data": {
      "text/plain": [
       "212"
      ]
     },
     "execution_count": 16,
     "metadata": {},
     "output_type": "execute_result"
    }
   ],
   "source": [
    "fschema_astra[\"DATA OBITO\"].notnull().sum()"
   ]
  },
  {
   "cell_type": "code",
   "execution_count": 18,
   "metadata": {},
   "outputs": [
    {
     "data": {
      "text/plain": [
       "456"
      ]
     },
     "execution_count": 18,
     "metadata": {},
     "output_type": "execute_result"
    }
   ],
   "source": [
    "fschema_cor[\"DATA OBITO\"].notnull().sum()"
   ]
  },
  {
   "cell_type": "code",
   "execution_count": 22,
   "metadata": {},
   "outputs": [
    {
     "data": {
      "text/plain": [
       "29"
      ]
     },
     "execution_count": 22,
     "metadata": {},
     "output_type": "execute_result"
    }
   ],
   "source": [
    "fschema_pfizer[\"DATA OBITO\"].notnull().sum()"
   ]
  },
  {
   "cell_type": "code",
   "execution_count": 20,
   "metadata": {},
   "outputs": [
    {
     "data": {
      "image/png": "[encoded data removed]",
      "text/plain": [
       "<Figure size 576x432 with 2 Axes>"
      ]
     },
     "execution_count": 20,
     "metadata": {},
     "output_type": "execute_result"
    }
   ],
   "source": [
    "vacinad"
   ]
  },
  {
   "cell_type": "code",
   "execution_count": 23,
   "metadata": {},
   "outputs": [
    {
     "data": {
      "text/plain": [
       "<AxesSubplot:>"
      ]
     },
     "execution_count": 23,
     "metadata": {},
     "output_type": "execute_result"
    },
    {
     "data": {
      "image/png": "[encoded data removed]",
      "text/plain": [
       "<Figure size 432x288 with 1 Axes>"
      ]
     },
     "metadata": {
      "needs_background": "light"
     },
     "output_type": "display_data"
    }
   ],
   "source": [
    "fschema_astra[\"IDADE\"].hist()"
   ]
  },
  {
   "cell_type": "code",
   "execution_count": 40,
   "metadata": {},
   "outputs": [],
   "source": [
    "sub = fschema[fschema[\"CPF\"].isin(hospital.sub_data[\"D2\"][\"CASO\"][\"CPF\"])]\n"
   ]
  },
  {
   "cell_type": "code",
   "execution_count": 41,
   "metadata": {},
   "outputs": [
    {
     "data": {
      "text/html": [
       "<div>\n",
       "<style scoped>\n",
       "    .dataframe tbody tr th:only-of-type {\n",
       "        vertical-align: middle;\n",
       "    }\n",
       "\n",
       "    .dataframe tbody tr th {\n",
       "        vertical-align: top;\n",
       "    }\n",
       "\n",
       "    .dataframe thead th {\n",
       "        text-align: right;\n",
       "    }\n",
       "</style>\n",
       "<table border=\"1\" class=\"dataframe\">\n",
       "  <thead>\n",
       "    <tr style=\"text-align: right;\">\n",
       "      <th></th>\n",
       "      <th>SITUACAO VACINEJA</th>\n",
       "      <th>STATUS VACINACAO DURANTE COORTE</th>\n",
       "    </tr>\n",
       "  </thead>\n",
       "  <tbody>\n",
       "    <tr>\n",
       "      <th>9951</th>\n",
       "      <td>RECEBEU AO MENOS UMA DOSE</td>\n",
       "      <td>(D1)(D2)</td>\n",
       "    </tr>\n",
       "    <tr>\n",
       "      <th>14817</th>\n",
       "      <td>RECEBEU AO MENOS UMA DOSE</td>\n",
       "      <td>(D1)(D2)</td>\n",
       "    </tr>\n",
       "    <tr>\n",
       "      <th>27457</th>\n",
       "      <td>RECEBEU AO MENOS UMA DOSE</td>\n",
       "      <td>(D1)(D2)</td>\n",
       "    </tr>\n",
       "    <tr>\n",
       "      <th>40388</th>\n",
       "      <td>RECEBEU AO MENOS UMA DOSE</td>\n",
       "      <td>(D1)(D2)</td>\n",
       "    </tr>\n",
       "    <tr>\n",
       "      <th>46159</th>\n",
       "      <td>RECEBEU AO MENOS UMA DOSE</td>\n",
       "      <td>(D1)(D2)</td>\n",
       "    </tr>\n",
       "    <tr>\n",
       "      <th>...</th>\n",
       "      <td>...</td>\n",
       "      <td>...</td>\n",
       "    </tr>\n",
       "    <tr>\n",
       "      <th>2174302</th>\n",
       "      <td>RECEBEU AO MENOS UMA DOSE</td>\n",
       "      <td>(D1)(D2)</td>\n",
       "    </tr>\n",
       "    <tr>\n",
       "      <th>2194383</th>\n",
       "      <td>RECEBEU AO MENOS UMA DOSE</td>\n",
       "      <td>(D1)(D2)</td>\n",
       "    </tr>\n",
       "    <tr>\n",
       "      <th>2214350</th>\n",
       "      <td>RECEBEU AO MENOS UMA DOSE</td>\n",
       "      <td>(D1)(D2)</td>\n",
       "    </tr>\n",
       "    <tr>\n",
       "      <th>2261124</th>\n",
       "      <td>RECEBEU AO MENOS UMA DOSE</td>\n",
       "      <td>(D1)(D2)</td>\n",
       "    </tr>\n",
       "    <tr>\n",
       "      <th>2265218</th>\n",
       "      <td>RECEBEU AO MENOS UMA DOSE</td>\n",
       "      <td>(D1)(D2)</td>\n",
       "    </tr>\n",
       "  </tbody>\n",
       "</table>\n",
       "<p>212 rows × 2 columns</p>\n",
       "</div>"
      ],
      "text/plain": [
       "                 SITUACAO VACINEJA STATUS VACINACAO DURANTE COORTE\n",
       "9951     RECEBEU AO MENOS UMA DOSE                        (D1)(D2)\n",
       "14817    RECEBEU AO MENOS UMA DOSE                        (D1)(D2)\n",
       "27457    RECEBEU AO MENOS UMA DOSE                        (D1)(D2)\n",
       "40388    RECEBEU AO MENOS UMA DOSE                        (D1)(D2)\n",
       "46159    RECEBEU AO MENOS UMA DOSE                        (D1)(D2)\n",
       "...                            ...                             ...\n",
       "2174302  RECEBEU AO MENOS UMA DOSE                        (D1)(D2)\n",
       "2194383  RECEBEU AO MENOS UMA DOSE                        (D1)(D2)\n",
       "2214350  RECEBEU AO MENOS UMA DOSE                        (D1)(D2)\n",
       "2261124  RECEBEU AO MENOS UMA DOSE                        (D1)(D2)\n",
       "2265218  RECEBEU AO MENOS UMA DOSE                        (D1)(D2)\n",
       "\n",
       "[212 rows x 2 columns]"
      ]
     },
     "execution_count": 41,
     "metadata": {},
     "output_type": "execute_result"
    }
   ],
   "source": [
    "sub[pd.notna(sub[\"DATA HOSPITALIZACAO\"])][[\"SITUACAO VACINEJA\", \"STATUS VACINACAO DURANTE COORTE\"]]"
   ]
  },
  {
   "cell_type": "code",
   "execution_count": 36,
   "metadata": {},
   "outputs": [
    {
     "data": {
      "text/plain": [
       "0.4896073903002309"
      ]
     },
     "execution_count": 36,
     "metadata": {},
     "output_type": "execute_result"
    }
   ],
   "source": [
    "212/433\n"
   ]
  },
  {
   "cell_type": "code",
   "execution_count": 35,
   "metadata": {},
   "outputs": [],
   "source": [
    "df5 = pd.read_parquet(os.path.join(pareado_folder, \"SURVIVAL\", \"SURVIVAL_CORONAVAC_D1D2_HOSPITAL_3.parquet\"))\n",
    "df6 = pd.read_parquet(os.path.join(pareado_folder, \"SURVIVAL\", \"SURVIVAL_CORONAVAC_D1D2_HOSPITAL_6.parquet\"))"
   ]
  },
  {
   "cell_type": "code",
   "execution_count": 39,
   "metadata": {},
   "outputs": [
    {
     "data": {
      "text/plain": [
       "2752"
      ]
     },
     "execution_count": 39,
     "metadata": {},
     "output_type": "execute_result"
    }
   ],
   "source": [
    "df6[\"E - D2 HOSPITAL\"].sum()"
   ]
  },
  {
   "cell_type": "code",
   "execution_count": 38,
   "metadata": {},
   "outputs": [
    {
     "data": {
      "text/plain": [
       "1728"
      ]
     },
     "execution_count": 38,
     "metadata": {},
     "output_type": "execute_result"
    }
   ],
   "source": [
    "df5[\"E - D2 HOSPITAL\"].sum()"
   ]
  },
  {
   "cell_type": "code",
   "execution_count": 43,
   "metadata": {},
   "outputs": [],
   "source": [
    "obt = fschema[pd.notna(fschema[\"DATA OBITO\"])]"
   ]
  },
  {
   "cell_type": "code",
   "execution_count": 45,
   "metadata": {},
   "outputs": [
    {
     "name": "stderr",
     "output_type": "stream",
     "text": [
      "C:\\Users\\HIGOR~1.MON\\AppData\\Local\\Temp/ipykernel_5488/1987012523.py:1: SettingWithCopyWarning: \n",
      "A value is trying to be set on a copy of a slice from a DataFrame.\n",
      "Try using .loc[row_indexer,col_indexer] = value instead\n",
      "\n",
      "See the caveats in the documentation: https://pandas.pydata.org/pandas-docs/stable/user_guide/indexing.html#returning-a-view-versus-a-copy\n",
      "  obt[\"MESANO\"] = obt[\"DATA OBITO\"].apply(lambda x: f'{x.year}{x.month}')\n"
     ]
    }
   ],
   "source": [
    "obt[\"MESANO\"] = obt[\"DATA OBITO\"].apply(lambda x: f'{x.year}{x.month}')"
   ]
  },
  {
   "cell_type": "code",
   "execution_count": 47,
   "metadata": {},
   "outputs": [
    {
     "data": {
      "text/plain": [
       "20214     665\n",
       "20215     435\n",
       "20213     217\n",
       "20216     186\n",
       "20217      71\n",
       "20205      32\n",
       "20218      25\n",
       "202112     18\n",
       "20219      18\n",
       "202111     15\n",
       "20212       9\n",
       "202110      8\n",
       "20204       5\n",
       "20206       5\n",
       "20211       4\n",
       "20207       3\n",
       "202012      2\n",
       "20209       1\n",
       "20208       1\n",
       "202011      1\n",
       "Name: MESANO, dtype: int64"
      ]
     },
     "execution_count": 47,
     "metadata": {},
     "output_type": "execute_result"
    }
   ],
   "source": [
    "obt[\"MESANO\"].value_counts()"
   ]
  },
  {
   "cell_type": "code",
   "execution_count": 133,
   "metadata": {},
   "outputs": [
    {
     "data": {
      "text/plain": [
       "NAO VACINADO    826\n",
       "ASTRAZENECA     763\n",
       "CORONAVAC       529\n",
       "PFIZER          283\n",
       "JANSSEN          13\n",
       "Name: VACINA APLICADA, dtype: int64"
      ]
     },
     "execution_count": 133,
     "metadata": {},
     "output_type": "execute_result"
    }
   ],
   "source": [
    "fschema[pd.notna(fschema[\"DATA UTI\"])][\"VACINA APLICADA\"].value_counts()"
   ]
  },
  {
   "cell_type": "code",
   "execution_count": 71,
   "metadata": {},
   "outputs": [
    {
     "data": {
      "text/plain": [
       "OUTROS                   1469817\n",
       "IDOSO                     335572\n",
       "                          114886\n",
       "COMORBIDADE                25681\n",
       "PROFISSIONAL DE SAUDE      24926\n",
       "TRABALHADOR DA SAUDE        9327\n",
       "Name: GRUPO PRIORITARIO, dtype: int64"
      ]
     },
     "execution_count": 71,
     "metadata": {},
     "output_type": "execute_result"
    }
   ],
   "source": [
    "fschema[\"GRUPO PRIORITARIO\"].value_counts()"
   ]
  },
  {
   "cell_type": "code",
   "execution_count": 52,
   "metadata": {},
   "outputs": [],
   "source": [
    "vacinados = pd.read_parquet(os.path.join(\"..\", \"..\", \"..\", \"data\", \"PARQUET_TRANSFORMED\", \"VACINADOS.parquet\"))"
   ]
  },
  {
   "cell_type": "code",
   "execution_count": 53,
   "metadata": {},
   "outputs": [],
   "source": [
    "lst = [\"PROFISSIONAL DE SAUDE\", \"TRABALHADOR DA SAUDE\"]\n",
    "vac_saude = vacinados[vacinados[\"grupo prioritario(VACINADOS)\"].isin(lst)]"
   ]
  },
  {
   "cell_type": "code",
   "execution_count": 57,
   "metadata": {},
   "outputs": [],
   "source": [
    "fsaude = fschema[fschema[\"CPF\"].isin(vac_saude[\"cpf(VACINADOS)\"])]"
   ]
  },
  {
   "cell_type": "code",
   "execution_count": 66,
   "metadata": {},
   "outputs": [
    {
     "data": {
      "text/plain": [
       "694        [2021-04-07T00:00:00.000000]\n",
       "827        [2021-04-26T00:00:00.000000]\n",
       "16799      [2021-03-10T00:00:00.000000]\n",
       "23759      [2021-02-06T00:00:00.000000]\n",
       "52271      [2021-03-27T00:00:00.000000]\n",
       "                       ...             \n",
       "2187326    [2022-01-03T00:00:00.000000]\n",
       "2201585    [2021-01-16T00:00:00.000000]\n",
       "2213005    [2021-02-13T00:00:00.000000]\n",
       "2221108    [2021-02-27T00:00:00.000000]\n",
       "2249841    [2021-03-01T00:00:00.000000]\n",
       "Name: DATA HOSPITALIZACAO, Length: 156, dtype: object"
      ]
     },
     "execution_count": 66,
     "metadata": {},
     "output_type": "execute_result"
    }
   ],
   "source": [
    "fsaude[pd.notna(fsaude[\"DATA HOSPITALIZACAO\"])][\"DATA HOSPITALIZACAO\"]"
   ]
  },
  {
   "cell_type": "code",
   "execution_count": 68,
   "metadata": {},
   "outputs": [
    {
     "data": {
      "text/plain": [
       "Index(['nome(VACINADOS)', 'nome mae(VACINADOS)', 'cpf(VACINADOS)',\n",
       "       'sexo(VACINADOS)', 'data nascimento(VACINADOS)', 'data D1(VACINADOS)',\n",
       "       'data D2(VACINADOS)', 'data D3(VACINADOS)', 'data D4(VACINADOS)',\n",
       "       'vacina(VACINADOS)', 'fornecedor(VACINADOS)', 'idade anos(VACINADOS)',\n",
       "       'faixa etaria(VACINADOS)', 'bairro(VACINADOS)', 'bairro id(VACINADOS)',\n",
       "       'tipo atendimento(VACINADOS)', 'tipo usuario(VACINADOS)',\n",
       "       'grupo prioritario(VACINADOS)',\n",
       "       'data aplicacao consistente(VACINADOS)'],\n",
       "      dtype='object')"
      ]
     },
     "execution_count": 68,
     "metadata": {},
     "output_type": "execute_result"
    }
   ],
   "source": [
    "vacinados.columns"
   ]
  },
  {
   "cell_type": "code",
   "execution_count": 74,
   "metadata": {},
   "outputs": [
    {
     "data": {
      "text/plain": [
       "NAO                                                                    6930\n",
       "SIM                                                                    2416\n",
       "SEM INFO                                                               2066\n",
       "NAO;NAO                                                                 235\n",
       "IGNORADO                                                                 82\n",
       "NAO;SIM                                                                  66\n",
       "SEM INFO;NAO                                                             53\n",
       "SIM;NAO                                                                  46\n",
       "SIM;SIM                                                                  46\n",
       "NAO;SEM INFO                                                             42\n",
       "SEM INFO;SEM INFO                                                        41\n",
       "SEM INFO;SIM                                                             23\n",
       "SIM;SEM INFO                                                             17\n",
       "NAO;NAO;NAO                                                              10\n",
       "NAO;IGNORADO                                                              4\n",
       "NAO;SIM;NAO                                                               3\n",
       "SIM;SEM INFO;SEM INFO                                                     3\n",
       "IGNORADO;NAO                                                              3\n",
       "SIM;NAO;NAO                                                               3\n",
       "NAO;SEM INFO;NAO                                                          2\n",
       "SEM INFO;SEM INFO;SEM INFO                                                2\n",
       "IGNORADO;SEM INFO                                                         2\n",
       "IGNORADO;IGNORADO                                                         2\n",
       "NAO;NAO;SIM                                                               2\n",
       "SEM INFO;IGNORADO                                                         1\n",
       "SIM;SIM;SIM;SIM;SIM;SIM;SIM;SIM;SIM;SIM;SIM;SIM;SIM;SIM;SIM;SIM;SIM       1\n",
       "NAO;SIM;IGNORADO                                                          1\n",
       "NAO;SIM;SIM;SIM                                                           1\n",
       "SEM INFO;SIM;NAO                                                          1\n",
       "SIM;NAO;SIM                                                               1\n",
       "IGNORADO;IGNORADO;NAO                                                     1\n",
       "SEM INFO;NAO;SEM INFO                                                     1\n",
       "SIM;SIM;SIM;SEM INFO                                                      1\n",
       "IGNORADO;NAO;NAO                                                          1\n",
       "SIM;IGNORADO                                                              1\n",
       "NAO;SEM INFO;NAO;NAO                                                      1\n",
       "NAO;SIM;SIM;SIM;SIM;SIM                                                   1\n",
       "SEM INFO;SEM INFO;SEM INFO;NAO                                            1\n",
       "Name: UTI, dtype: int64"
      ]
     },
     "execution_count": 74,
     "metadata": {},
     "output_type": "execute_result"
    }
   ],
   "source": [
    "fschema[\"UTI\"].value_counts()"
   ]
  },
  {
   "cell_type": "code",
   "execution_count": 104,
   "metadata": {},
   "outputs": [],
   "source": [
    "fschema_uti = fschema[pd.notna(fschema[\"UTI\"])]\n",
    "s = fschema_uti[fschema_uti[\"UTI\"].str.contains(\"SIM\")][[\"DT_ENTUTI\", \"DATA D1\", \"DATA D2\"]]"
   ]
  },
  {
   "cell_type": "code",
   "execution_count": 89,
   "metadata": {},
   "outputs": [
    {
     "data": {
      "text/html": [
       "<div>\n",
       "<style scoped>\n",
       "    .dataframe tbody tr th:only-of-type {\n",
       "        vertical-align: middle;\n",
       "    }\n",
       "\n",
       "    .dataframe tbody tr th {\n",
       "        vertical-align: top;\n",
       "    }\n",
       "\n",
       "    .dataframe thead th {\n",
       "        text-align: right;\n",
       "    }\n",
       "</style>\n",
       "<table border=\"1\" class=\"dataframe\">\n",
       "  <thead>\n",
       "    <tr style=\"text-align: right;\">\n",
       "      <th></th>\n",
       "      <th>DT_ENTUTI</th>\n",
       "      <th>DATA D1</th>\n",
       "      <th>DATA D2</th>\n",
       "    </tr>\n",
       "  </thead>\n",
       "  <tbody>\n",
       "    <tr>\n",
       "      <th>19887</th>\n",
       "      <td>2021-03-20</td>\n",
       "      <td>2021-06-08</td>\n",
       "      <td>2021-08-14</td>\n",
       "    </tr>\n",
       "    <tr>\n",
       "      <th>19892</th>\n",
       "      <td>2021-03-18</td>\n",
       "      <td>2021-06-09</td>\n",
       "      <td>2021-08-24</td>\n",
       "    </tr>\n",
       "    <tr>\n",
       "      <th>20761</th>\n",
       "      <td>2021-04-14</td>\n",
       "      <td>2021-06-16</td>\n",
       "      <td>2021-08-26</td>\n",
       "    </tr>\n",
       "    <tr>\n",
       "      <th>21320</th>\n",
       "      <td>2021-06-05</td>\n",
       "      <td>2021-05-08</td>\n",
       "      <td>2021-07-13</td>\n",
       "    </tr>\n",
       "    <tr>\n",
       "      <th>21500</th>\n",
       "      <td>2021-03-27</td>\n",
       "      <td>2021-06-12</td>\n",
       "      <td>2021-09-04</td>\n",
       "    </tr>\n",
       "    <tr>\n",
       "      <th>22773</th>\n",
       "      <td>2021-01-28</td>\n",
       "      <td>2021-06-15</td>\n",
       "      <td>2021-09-14</td>\n",
       "    </tr>\n",
       "    <tr>\n",
       "      <th>23148</th>\n",
       "      <td>2021-04-16</td>\n",
       "      <td>2021-03-26</td>\n",
       "      <td>NaT</td>\n",
       "    </tr>\n",
       "    <tr>\n",
       "      <th>23225</th>\n",
       "      <td>2021-05-19</td>\n",
       "      <td>NaT</td>\n",
       "      <td>NaT</td>\n",
       "    </tr>\n",
       "    <tr>\n",
       "      <th>23285</th>\n",
       "      <td>2021-06-16</td>\n",
       "      <td>2021-03-03</td>\n",
       "      <td>2021-05-05</td>\n",
       "    </tr>\n",
       "    <tr>\n",
       "      <th>23305</th>\n",
       "      <td>2021-05-14</td>\n",
       "      <td>NaT</td>\n",
       "      <td>NaT</td>\n",
       "    </tr>\n",
       "    <tr>\n",
       "      <th>23319</th>\n",
       "      <td>2021-05-22</td>\n",
       "      <td>2021-05-12</td>\n",
       "      <td>NaT</td>\n",
       "    </tr>\n",
       "    <tr>\n",
       "      <th>25749</th>\n",
       "      <td>2021-06-26</td>\n",
       "      <td>2021-06-19</td>\n",
       "      <td>2021-09-10</td>\n",
       "    </tr>\n",
       "    <tr>\n",
       "      <th>28112</th>\n",
       "      <td>2021-01-20</td>\n",
       "      <td>2021-08-04</td>\n",
       "      <td>2021-10-01</td>\n",
       "    </tr>\n",
       "    <tr>\n",
       "      <th>28925</th>\n",
       "      <td>2021-09-08</td>\n",
       "      <td>2021-06-23</td>\n",
       "      <td>2021-10-05</td>\n",
       "    </tr>\n",
       "    <tr>\n",
       "      <th>30985</th>\n",
       "      <td>2021-02-07</td>\n",
       "      <td>2021-03-25</td>\n",
       "      <td>2021-04-17</td>\n",
       "    </tr>\n",
       "    <tr>\n",
       "      <th>36025</th>\n",
       "      <td>2021-03-23</td>\n",
       "      <td>2021-05-08</td>\n",
       "      <td>2021-07-13</td>\n",
       "    </tr>\n",
       "    <tr>\n",
       "      <th>36138</th>\n",
       "      <td>2021-06-17</td>\n",
       "      <td>NaT</td>\n",
       "      <td>NaT</td>\n",
       "    </tr>\n",
       "    <tr>\n",
       "      <th>36199</th>\n",
       "      <td>2021-03-27</td>\n",
       "      <td>NaT</td>\n",
       "      <td>NaT</td>\n",
       "    </tr>\n",
       "    <tr>\n",
       "      <th>36377</th>\n",
       "      <td>2021-03-11</td>\n",
       "      <td>NaT</td>\n",
       "      <td>NaT</td>\n",
       "    </tr>\n",
       "    <tr>\n",
       "      <th>36699</th>\n",
       "      <td>2021-04-02</td>\n",
       "      <td>NaT</td>\n",
       "      <td>NaT</td>\n",
       "    </tr>\n",
       "    <tr>\n",
       "      <th>36742</th>\n",
       "      <td>2021-03-31</td>\n",
       "      <td>NaT</td>\n",
       "      <td>NaT</td>\n",
       "    </tr>\n",
       "    <tr>\n",
       "      <th>37150</th>\n",
       "      <td>2021-04-04</td>\n",
       "      <td>NaT</td>\n",
       "      <td>NaT</td>\n",
       "    </tr>\n",
       "    <tr>\n",
       "      <th>37169</th>\n",
       "      <td>2021-03-15</td>\n",
       "      <td>NaT</td>\n",
       "      <td>NaT</td>\n",
       "    </tr>\n",
       "    <tr>\n",
       "      <th>37959</th>\n",
       "      <td>2021-11-20</td>\n",
       "      <td>2021-05-11</td>\n",
       "      <td>2021-07-13</td>\n",
       "    </tr>\n",
       "    <tr>\n",
       "      <th>38904</th>\n",
       "      <td>2021-02-05</td>\n",
       "      <td>2021-05-29</td>\n",
       "      <td>2021-08-02</td>\n",
       "    </tr>\n",
       "  </tbody>\n",
       "</table>\n",
       "</div>"
      ],
      "text/plain": [
       "        DT_ENTUTI    DATA D1    DATA D2\n",
       "19887  2021-03-20 2021-06-08 2021-08-14\n",
       "19892  2021-03-18 2021-06-09 2021-08-24\n",
       "20761  2021-04-14 2021-06-16 2021-08-26\n",
       "21320  2021-06-05 2021-05-08 2021-07-13\n",
       "21500  2021-03-27 2021-06-12 2021-09-04\n",
       "22773  2021-01-28 2021-06-15 2021-09-14\n",
       "23148  2021-04-16 2021-03-26        NaT\n",
       "23225  2021-05-19        NaT        NaT\n",
       "23285  2021-06-16 2021-03-03 2021-05-05\n",
       "23305  2021-05-14        NaT        NaT\n",
       "23319  2021-05-22 2021-05-12        NaT\n",
       "25749  2021-06-26 2021-06-19 2021-09-10\n",
       "28112  2021-01-20 2021-08-04 2021-10-01\n",
       "28925  2021-09-08 2021-06-23 2021-10-05\n",
       "30985  2021-02-07 2021-03-25 2021-04-17\n",
       "36025  2021-03-23 2021-05-08 2021-07-13\n",
       "36138  2021-06-17        NaT        NaT\n",
       "36199  2021-03-27        NaT        NaT\n",
       "36377  2021-03-11        NaT        NaT\n",
       "36699  2021-04-02        NaT        NaT\n",
       "36742  2021-03-31        NaT        NaT\n",
       "37150  2021-04-04        NaT        NaT\n",
       "37169  2021-03-15        NaT        NaT\n",
       "37959  2021-11-20 2021-05-11 2021-07-13\n",
       "38904  2021-02-05 2021-05-29 2021-08-02"
      ]
     },
     "execution_count": 89,
     "metadata": {},
     "output_type": "execute_result"
    }
   ],
   "source": [
    "s.apply(lambda x: \"NAO VACINADO\" if x[\"DT_ENTUTI\"]<x[\"DATA D1\"] and x[\"DT_ENTUTI\"]<x[\"DATA D2\"] else ( \"D1\" if x[\"DT_ENTUTI\"]>x[\"DATA D1\"] and x[\"DT_ENTUTI\"]<x[\"DATA D2\"]))"
   ]
  },
  {
   "cell_type": "code",
   "execution_count": 90,
   "metadata": {},
   "outputs": [
    {
     "name": "stdout",
     "output_type": "stream",
     "text": [
      "<class 'pandas.core.frame.DataFrame'>\n",
      "Int64Index: 25 entries, 19887 to 38904\n",
      "Data columns (total 3 columns):\n",
      " #   Column     Non-Null Count  Dtype         \n",
      "---  ------     --------------  -----         \n",
      " 0   DT_ENTUTI  25 non-null     object        \n",
      " 1   DATA D1    16 non-null     datetime64[ns]\n",
      " 2   DATA D2    14 non-null     datetime64[ns]\n",
      "dtypes: datetime64[ns](2), object(1)\n",
      "memory usage: 800.0+ bytes\n"
     ]
    }
   ],
   "source": [
    "s.info()"
   ]
  },
  {
   "cell_type": "code",
   "execution_count": 105,
   "metadata": {},
   "outputs": [],
   "source": [
    "s[\"ENTUTI\"] = s[\"DT_ENTUTI\"].apply(lambda x: x.split(\";\"))\n",
    "s[\"ENTUTI\"] = s[\"ENTUTI\"].apply(lambda x: [pd.to_datetime(xx) for xx in x])\n",
    "def f(x):\n",
    "    for xx in x:\n",
    "        if pd.notna(xx):\n",
    "            return xx\n",
    "s[\"ENTUTI\"] = s[\"ENTUTI\"].apply(f)"
   ]
  },
  {
   "cell_type": "code",
   "execution_count": 106,
   "metadata": {},
   "outputs": [
    {
     "data": {
      "text/plain": [
       "219       2021-04-22\n",
       "4362      2021-05-06\n",
       "4370      2021-04-21\n",
       "4391      2021-06-13\n",
       "4401      2021-04-27\n",
       "             ...    \n",
       "2274327   2021-04-29\n",
       "2274376   2021-03-18\n",
       "2274726   2021-04-20\n",
       "2275024   2021-04-13\n",
       "2275148   2021-03-26\n",
       "Name: ENTUTI, Length: 2633, dtype: datetime64[ns]"
      ]
     },
     "execution_count": 106,
     "metadata": {},
     "output_type": "execute_result"
    }
   ],
   "source": [
    "s[\"ENTUTI\"]"
   ]
  },
  {
   "cell_type": "code",
   "execution_count": 110,
   "metadata": {},
   "outputs": [],
   "source": [
    "s[\"STATUS\"] = s.apply(lambda x: \"NAO VACINADO\" if x[\"ENTUTI\"]<x[\"DATA D1\"] and x[\"ENTUTI\"]<x[\"DATA D2\"] else (\"D1\" if  x[\"ENTUTI\"]>x[\"DATA D1\"] and x[\"ENTUTI\"]<x[\"DATA D2\"] else (\"D2\" if  x[\"ENTUTI\"]>x[\"DATA D1\"] and x[\"ENTUTI\"]>x[\"DATA D2\"] else \"D1\")), axis=1)"
   ]
  },
  {
   "cell_type": "code",
   "execution_count": 111,
   "metadata": {},
   "outputs": [
    {
     "data": {
      "text/plain": [
       "D1              1387\n",
       "NAO VACINADO     997\n",
       "D2               249\n",
       "Name: STATUS, dtype: int64"
      ]
     },
     "execution_count": 111,
     "metadata": {},
     "output_type": "execute_result"
    }
   ],
   "source": [
    "s[\"STATUS\"].value_counts()"
   ]
  },
  {
   "cell_type": "code",
   "execution_count": 116,
   "metadata": {},
   "outputs": [],
   "source": [
    "fschema[\"DT_ENTUTI\"] = fschema[\"DT_ENTUTI\"].apply(lambda x: [pd.to_datetime(xx) for xx in x.split(\";\")] if pd.notna(x) else np.nan)"
   ]
  },
  {
   "cell_type": "code",
   "execution_count": 124,
   "metadata": {},
   "outputs": [
    {
     "data": {
      "text/plain": [
       "219        [2021-04-22T00:00:00.000000]\n",
       "4362       [2021-05-06T00:00:00.000000]\n",
       "4370       [2021-04-21T00:00:00.000000]\n",
       "4391       [2021-06-13T00:00:00.000000]\n",
       "4401       [2021-04-27T00:00:00.000000]\n",
       "                       ...             \n",
       "2274327    [2021-04-29T00:00:00.000000]\n",
       "2274376    [2021-03-18T00:00:00.000000]\n",
       "2274726    [2021-04-20T00:00:00.000000]\n",
       "2275024    [2021-04-13T00:00:00.000000]\n",
       "2275148    [2021-03-26T00:00:00.000000]\n",
       "Name: DT_ENTUTI, Length: 2573, dtype: object"
      ]
     },
     "execution_count": 124,
     "metadata": {},
     "output_type": "execute_result"
    }
   ],
   "source": [
    "fschema[pd.notna(fschema[\"DT_ENTUTI\"])][\"DT_ENTUTI\"]"
   ]
  },
  {
   "cell_type": "code",
   "execution_count": 121,
   "metadata": {},
   "outputs": [],
   "source": [
    "fschema[\"DT_ENTUTI\"] = fschema[\"DT_ENTUTI\"].apply(lambda x: x if not np.all(pd.isna(x)) else np.nan)"
   ]
  },
  {
   "cell_type": "code",
   "execution_count": 125,
   "metadata": {},
   "outputs": [],
   "source": [
    "def new_hospitalization_date(x, cohort):\n",
    "    '''\n",
    "    \n",
    "    '''\n",
    "    if not np.any(pd.notna(x)):\n",
    "        return np.nan\n",
    "    x = np.sort([xx for xx in x if pd.notna(xx)]) \n",
    "    condition = (x>=cohort[0]) & (x<=cohort[1])\n",
    "    if x[condition].shape[0]>0:\n",
    "        return x[condition][0]\n",
    "    else:\n",
    "        return np.nan"
   ]
  },
  {
   "cell_type": "code",
   "execution_count": 127,
   "metadata": {},
   "outputs": [],
   "source": [
    "cohort = (dt.datetime(2021, 1, 21), dt.datetime(2021, 8, 31))\n",
    "fschema[\"DATA UTI\"] = fschema[\"DT_ENTUTI\"].apply(lambda x: new_hospitalization_date(x, cohort))"
   ]
  },
  {
   "cell_type": "code",
   "execution_count": 129,
   "metadata": {},
   "outputs": [
    {
     "data": {
      "text/plain": [
       "219       2021-04-22\n",
       "4362      2021-05-06\n",
       "4370      2021-04-21\n",
       "4391      2021-06-13\n",
       "4401      2021-04-27\n",
       "             ...    \n",
       "2274327   2021-04-29\n",
       "2274376   2021-03-18\n",
       "2274726   2021-04-20\n",
       "2275024   2021-04-13\n",
       "2275148   2021-03-26\n",
       "Name: DATA UTI, Length: 2414, dtype: datetime64[ns]"
      ]
     },
     "execution_count": 129,
     "metadata": {},
     "output_type": "execute_result"
    }
   ],
   "source": [
    "fschema[pd.notna(fschema[\"DATA UTI\"])][\"DATA UTI\"]"
   ]
  },
  {
   "cell_type": "code",
   "execution_count": 134,
   "metadata": {},
   "outputs": [
    {
     "data": {
      "text/plain": [
       "NÃO INFOMRADO         296878\n",
       "MONDUBIM               61790\n",
       "MESSEJANA              53528\n",
       "BARRA DO CEARA         53236\n",
       "JANGURUSSU             48467\n",
       "                       ...  \n",
       "DE LOURDES              2074\n",
       "MANUEL DIAS BRANCO      1041\n",
       "NOVO MONDUBIM            341\n",
       "PRAIA DO FUTURO II       171\n",
       "CONJUNTO CEARA II        132\n",
       "Name: BAIRRO, Length: 122, dtype: int64"
      ]
     },
     "execution_count": 134,
     "metadata": {},
     "output_type": "execute_result"
    }
   ],
   "source": [
    "fschema[\"BAIRRO\"].value_counts()"
   ]
  },
  {
   "cell_type": "code",
   "execution_count": null,
   "metadata": {},
   "outputs": [],
   "source": []
  }
 ],
 "metadata": {
  "kernelspec": {
   "display_name": "Python 3 (ipykernel)",
   "language": "python",
   "name": "python3"
  },
  "language_info": {
   "codemirror_mode": {
    "name": "ipython",
    "version": 3
   },
   "file_extension": ".py",
   "mimetype": "text/x-python",
   "name": "python",
   "nbconvert_exporter": "python",
   "pygments_lexer": "ipython3",
   "version": "3.9.7"
  }
 },
 "nbformat": 4,
 "nbformat_minor": 4
}
