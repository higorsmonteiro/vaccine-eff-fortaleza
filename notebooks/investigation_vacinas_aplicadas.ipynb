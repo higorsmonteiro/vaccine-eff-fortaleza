{
 "cells": [
  {
   "cell_type": "code",
   "execution_count": 9,
   "metadata": {},
   "outputs": [],
   "source": [
    "# Date --> AUG 25, 2022"
   ]
  },
  {
   "cell_type": "markdown",
   "metadata": {},
   "source": [
    "# **Investigation on irregular vaccine dates**"
   ]
  },
  {
   "cell_type": "code",
   "execution_count": 2,
   "metadata": {},
   "outputs": [],
   "source": [
    "import sys\n",
    "sys.path.append(\"..\")\n",
    "\n",
    "import os\n",
    "import re\n",
    "import csv\n",
    "import numpy as np\n",
    "import pandas as pd\n",
    "from tqdm import tqdm\n",
    "\n",
    "from collections import defaultdict"
   ]
  },
  {
   "cell_type": "code",
   "execution_count": 3,
   "metadata": {},
   "outputs": [],
   "source": [
    "dataf = os.path.join(\"..\", \"..\", \"..\", \"data\", \"PARQUET_TRANSFORMED\")\n",
    "\n",
    "base_path = os.path.join(os.environ[\"USERPROFILE\"], \"Documents\")\n",
    "project_folder = os.path.join(base_path, \"projects\", \"vaccine-eff-fortaleza\")\n",
    "pareamento_folder = os.path.join(project_folder, \"output\", \"PAREAMENTO\")\n",
    "output_data_folder = os.path.join(project_folder, \"output\", \"data\")"
   ]
  },
  {
   "cell_type": "markdown",
   "metadata": {
    "jp-MarkdownHeadingCollapsed": true,
    "tags": []
   },
   "source": [
    "## **Read and format data on applied vaccines**"
   ]
  },
  {
   "cell_type": "code",
   "execution_count": 3,
   "metadata": {},
   "outputs": [],
   "source": [
    "def transform_string(string):\n",
    "    lst = string.replace(\"Insert into EXPORT_TABLE\", \"\").split(\"values\")\n",
    "    columns = lst[0].split(\",\")\n",
    "    columns = [ x.replace(' ','').replace(\"(\", \"\").replace(\")\", \"\") for x in columns ]\n",
    "    values = lst[1].replace('null', \"''\")\n",
    "    values = re.findall(r\"'([^']*)'\", values[2:-1])\n",
    "    return columns, values"
   ]
  },
  {
   "cell_type": "code",
   "execution_count": 4,
   "metadata": {},
   "outputs": [
    {
     "name": "stdout",
     "output_type": "stream",
     "text": [
      "Processed 6455110 lines.\n"
     ]
    }
   ],
   "source": [
    "col_subset = ('\"cpf_usuario\"', '\"vacina\"', '\"data_aplicacao\"', '\"municipio\"', '\"tipo_atendimento\"', '\"nascimento\"', '\"dose\"')\n",
    "data_lines, success = [], []\n",
    "with open(os.path.join(dataf, \"vacinados.csv\"), \"r\", encoding=\"latin\") as f:\n",
    "    csv_reader = csv.reader(f, delimiter=';')\n",
    "    line_count = 0\n",
    "    for row in csv_reader:\n",
    "        try:\n",
    "            col, val = transform_string(row[0])\n",
    "            dict_temp = dict(zip(col, val))\n",
    "            data_lines.append({k: dict_temp[k] for k in col_subset })\n",
    "            success.append(True)\n",
    "        except:\n",
    "            transf_row = row[0]\n",
    "            data_lines.append(None)\n",
    "            success.append(False)\n",
    "        if line_count == -10:\n",
    "            break\n",
    "        else:\n",
    "            line_count += 1\n",
    "    print(f'Processed {line_count} lines.')"
   ]
  },
  {
   "cell_type": "code",
   "execution_count": 6,
   "metadata": {},
   "outputs": [
    {
     "data": {
      "text/plain": [
       "True     6454981\n",
       "False        129\n",
       "dtype: int64"
      ]
     },
     "execution_count": 6,
     "metadata": {},
     "output_type": "execute_result"
    }
   ],
   "source": [
    "pd.Series(success).value_counts()"
   ]
  },
  {
   "cell_type": "code",
   "execution_count": 5,
   "metadata": {},
   "outputs": [
    {
     "data": {
      "text/plain": [
       "[None,\n",
       " None,\n",
       " {'\"cpf_usuario\"': '64085678272',\n",
       "  '\"vacina\"': 'VACINA COVID 19 COVISHIELD',\n",
       "  '\"data_aplicacao\"': '2021-04-20',\n",
       "  '\"municipio\"': 'MANAUS',\n",
       "  '\"tipo_atendimento\"': 'ROTINA',\n",
       "  '\"nascimento\"': '1978-07-27',\n",
       "  '\"dose\"': '1ª DOSE'},\n",
       " {'\"cpf_usuario\"': '64085678272',\n",
       "  '\"vacina\"': 'VACINA COVID 19 COVISHIELD',\n",
       "  '\"data_aplicacao\"': '2021-07-08',\n",
       "  '\"municipio\"': 'MANAUS',\n",
       "  '\"tipo_atendimento\"': 'ROTINA',\n",
       "  '\"nascimento\"': '1978-07-27',\n",
       "  '\"dose\"': '2ª DOSE'}]"
      ]
     },
     "execution_count": 5,
     "metadata": {},
     "output_type": "execute_result"
    }
   ],
   "source": [
    "data_lines[:4]"
   ]
  },
  {
   "cell_type": "code",
   "execution_count": 7,
   "metadata": {},
   "outputs": [],
   "source": [
    "df = pd.DataFrame([ x for x in data_lines if x is not None])"
   ]
  },
  {
   "cell_type": "code",
   "execution_count": 10,
   "metadata": {},
   "outputs": [],
   "source": [
    "df.to_parquet(os.path.join(dataf, \"VACINAS_APLICADAS_AUG_2022.parquet\"))"
   ]
  },
  {
   "cell_type": "markdown",
   "metadata": {},
   "source": [
    "## **Investigation of vaccine receipt dates** "
   ]
  },
  {
   "cell_type": "code",
   "execution_count": 3,
   "metadata": {},
   "outputs": [],
   "source": [
    "df = pd.read_parquet(os.path.join(dataf, \"VACINAS_APLICADAS_AUG_2022.parquet\"))"
   ]
  },
  {
   "cell_type": "code",
   "execution_count": 9,
   "metadata": {},
   "outputs": [
    {
     "data": {
      "text/plain": [
       "1ª DOSE           2318809\n",
       "2ª DOSE           2169761\n",
       "REFORÇO           1317930\n",
       "2º REFORÇO         402006\n",
       "1º REFORÇO         194885\n",
       "DOSE ÚNICA          32270\n",
       "DOSE ADICIONAL      14400\n",
       "3º REFORÇO           4541\n",
       "DOSE                  379\n",
       "Name: \"dose\", dtype: int64"
      ]
     },
     "execution_count": 9,
     "metadata": {},
     "output_type": "execute_result"
    }
   ],
   "source": [
    "df['\"dose\"'].value_counts()"
   ]
  },
  {
   "cell_type": "code",
   "execution_count": 182,
   "metadata": {},
   "outputs": [],
   "source": [
    "def transform_vaccine_data(data):\n",
    "    '''\n",
    "    \n",
    "    '''\n",
    "    individuals = defaultdict(lambda: ([], [], []))\n",
    "    for j in tqdm(range(data.shape[0])):\n",
    "        cpf = data['\"cpf_usuario\"'].iat[j]\n",
    "        dose = data['\"dose\"'].iat[j]\n",
    "        date = data['\"data_aplicacao\"'].iat[j]\n",
    "        vacina = data['\"vacina\"'].iat[j]\n",
    "        \n",
    "        if dose not in [\"1ª DOSE\", \"2ª DOSE\", \"DOSE ÚNICA\"]:\n",
    "            continue\n",
    "        \n",
    "        individuals[cpf][0].append(dose)\n",
    "        individuals[cpf][1].append(vacina)\n",
    "        individuals[cpf][2].append(date)\n",
    "    return individuals\n",
    "\n",
    "def checkIfDuplicates_2(listOfElems):\n",
    "    ''' Check if given list contains any duplicates '''    \n",
    "    setOfElems = set()\n",
    "    for elem in listOfElems:\n",
    "        if elem in setOfElems:\n",
    "            return True\n",
    "        else:\n",
    "            setOfElems.add(elem)         \n",
    "    return False\n",
    "\n",
    "def return_duplicates_cpf(individuals_dict):\n",
    "    cpfs_dupl = []\n",
    "    cpfs_nondupl = []\n",
    "    for key in individuals_dict.keys():\n",
    "        if checkIfDuplicates_2(individuals_dict[key][0]):\n",
    "            cpfs_dupl.append(key)\n",
    "        else:\n",
    "            cpfs_nondupl.append(key)\n",
    "    return cpfs_dupl, cpfs_nondupl"
   ]
  },
  {
   "cell_type": "code",
   "execution_count": 11,
   "metadata": {},
   "outputs": [
    {
     "name": "stderr",
     "output_type": "stream",
     "text": [
      "100%|█████████████████████████████████████████████████████████████████████| 6454981/6454981 [01:55<00:00, 56125.99it/s]\n"
     ]
    }
   ],
   "source": [
    "individuals = transform_vaccine_data(df)"
   ]
  },
  {
   "cell_type": "code",
   "execution_count": 183,
   "metadata": {},
   "outputs": [],
   "source": [
    "cpfs_dupl, cpfs_nondupl = return_duplicates_cpf(individuals)"
   ]
  },
  {
   "cell_type": "code",
   "execution_count": 184,
   "metadata": {},
   "outputs": [
    {
     "name": "stdout",
     "output_type": "stream",
     "text": [
      "33171 2264011\n"
     ]
    }
   ],
   "source": [
    "print(len(cpfs_dupl),len(cpfs_nondupl))"
   ]
  },
  {
   "cell_type": "code",
   "execution_count": 185,
   "metadata": {},
   "outputs": [
    {
     "name": "stdout",
     "output_type": "stream",
     "text": [
      "11331305349\n",
      "1ª DOSE    2\n",
      "2ª DOSE    1\n",
      "dtype: int64\n"
     ]
    }
   ],
   "source": [
    "print(cpfs_dupl[15])\n",
    "print(pd.Series(individuals[cpfs_dupl[15]][0]).value_counts())"
   ]
  },
  {
   "cell_type": "code",
   "execution_count": 198,
   "metadata": {},
   "outputs": [],
   "source": [
    "def classify(tupl):\n",
    "    clas = None\n",
    "    count_dose = pd.Series(tupl[0]).value_counts()\n",
    "    if \"1ª DOSE\" in count_dose.index and count_dose.loc[\"1ª DOSE\"]>1:\n",
    "        clas = \"D1\"\n",
    "        if \"2ª DOSE\" in count_dose.index and count_dose.loc[\"2ª DOSE\"]>1:\n",
    "                clas = \"BOTH\"\n",
    "    elif \"2ª DOSE\" in count_dose.index and count_dose.loc[\"2ª DOSE\"]>1:\n",
    "        clas = \"D2\"\n",
    "        if \"1ª DOSE\" in count_dose.index and count_dose.loc[\"1ª DOSE\"]>1:\n",
    "                clas = \"BOTH\"\n",
    "    else:\n",
    "        clas = \"EXTRA\"\n",
    "    return clas\n",
    "\n",
    "# -- Classify each individual duplicated\n",
    "def classify_error_type(cpf_duplicated, individuals_dict):\n",
    "    '''\n",
    "    \n",
    "    '''\n",
    "    dupl_type = [ None for x in cpf_duplicated ]\n",
    "    remove = [ False for x in  cpf_duplicated ]\n",
    "    for pos, cur_cpf in enumerate(cpf_duplicated):\n",
    "        info = individuals_dict[cur_cpf]\n",
    "        # first: identify which type of duplication -> d1? d2? both?\n",
    "        dupl_type[pos] = classify(info)\n",
    "        # second: duplication identified -> get all dates and compare\n",
    "        if dupl_type[pos]==\"D1\":\n",
    "            dates_d1 = [ pd.to_datetime(info[2][j]) for j in range(len(info[0])) if info[0][j]==\"1ª DOSE\" ]\n",
    "            date_d2 = [ pd.to_datetime(info[2][j]) for j in range(len(info[0])) if info[0][j]==\"2ª DOSE\" ]\n",
    "            if len(date_d2)==0: continue\n",
    "            for d1 in dates_d1:\n",
    "                if (date_d2[0]-d1).days<=7 or d1>date_d2[0]:\n",
    "                    remove[pos] = True\n",
    "                    break\n",
    "        elif dupl_type[pos]==\"D2\":\n",
    "            dates_d2 = [ pd.to_datetime(info[2][j]) for j in range(len(info[0])) if info[0][j]==\"2ª DOSE\" ]\n",
    "            date_d1 = [ pd.to_datetime(info[2][j]) for j in range(len(info[0])) if info[0][j]==\"1ª DOSE\" ]\n",
    "            if len(date_d1)==0: continue\n",
    "            for d2 in dates_d2:\n",
    "                if (d2-date_d1[0]).days<=7 or date_d1[0]>d2:\n",
    "                    remove[pos] = True\n",
    "                    break\n",
    "        elif dupl_type[pos]==\"BOTH\":\n",
    "            dates_d2 = [ pd.to_datetime(info[2][j]) for j in range(len(info[0])) if info[0][j]==\"2ª DOSE\" ]\n",
    "            dates_d1 = [ pd.to_datetime(info[2][j]) for j in range(len(info[0])) if info[0][j]==\"1ª DOSE\" ]\n",
    "            for d2 in dates_d2:\n",
    "                for d1 in dates_d1:\n",
    "                    if (d2-d1).days<=7 or d1>d2:\n",
    "                        remove[pos] = True\n",
    "                        break\n",
    "        else:\n",
    "            pass\n",
    "        #if len(info[0])<20:\n",
    "        #    print(info[0], info[2], dupl_type[pos], remove[pos])\n",
    "    return dupl_type, remove \n",
    "\n",
    "def classify_nondupl(cpf_nonduplicated, individuals_dict):\n",
    "    dtype = [ \"D1\" for x in cpf_nonduplicated ]\n",
    "    remove = [ False for x in  cpf_nonduplicated ]\n",
    "    for pos, cur_cpf in tqdm(enumerate(cpf_nonduplicated)):\n",
    "        info = individuals_dict[cur_cpf]\n",
    "        \n",
    "        dates_d2 = [ pd.to_datetime(info[2][j]) for j in range(len(info[0])) if info[0][j]==\"2ª DOSE\" ]\n",
    "        dates_d1 = [ pd.to_datetime(info[2][j]) for j in range(len(info[0])) if info[0][j]==\"1ª DOSE\" ]\n",
    "        \n",
    "        for d2 in dates_d2:\n",
    "            for d1 in dates_d1:\n",
    "                if (d2-d1).days<=7 and (d2-d1).days>=0:\n",
    "                    remove[pos] = True\n",
    "                    break\n",
    "                elif d1>d2:\n",
    "                    remove[pos] = True\n",
    "                    dtype[pos] = \"BOTH\"\n",
    "                    break\n",
    "    return dtype, remove"
   ]
  },
  {
   "cell_type": "code",
   "execution_count": 148,
   "metadata": {},
   "outputs": [],
   "source": [
    "#for index, dup in enumerate(dupl):\n",
    "#    if dup==\"BOTH\" and cpfs_dupl[index]!=\"\":\n",
    "#        print(individuals[cpfs_dupl[index]][0], individuals[cpfs_dupl[index]][2], dup, remove[index])"
   ]
  },
  {
   "cell_type": "code",
   "execution_count": 104,
   "metadata": {},
   "outputs": [],
   "source": [
    "dupl, remove = classify_error_type(cpfs_dupl, individuals)"
   ]
  },
  {
   "cell_type": "code",
   "execution_count": 199,
   "metadata": {},
   "outputs": [
    {
     "name": "stderr",
     "output_type": "stream",
     "text": [
      "2264011it [06:21, 5932.67it/s]\n"
     ]
    }
   ],
   "source": [
    "dtype, remove_non = classify_nondupl(cpfs_nondupl, individuals)"
   ]
  },
  {
   "cell_type": "code",
   "execution_count": 200,
   "metadata": {},
   "outputs": [],
   "source": [
    "temp_non = pd.DataFrame({\"cpf\": cpfs_nondupl, \"dtype\": dtype, \"remove\": remove_non})"
   ]
  },
  {
   "cell_type": "code",
   "execution_count": 149,
   "metadata": {},
   "outputs": [],
   "source": [
    "temp = pd.DataFrame({\"cpf\": cpfs_dupl, \"dupl type\": dupl, \"remove\": remove})"
   ]
  },
  {
   "cell_type": "code",
   "execution_count": 276,
   "metadata": {},
   "outputs": [],
   "source": [
    "cpf_remove_d1 = temp[(temp[\"dupl type\"]==\"D1\") & (temp[\"remove\"]==True)][\"cpf\"].reset_index()\n",
    "cpf_remove_d2 = temp[(temp[\"dupl type\"]==\"D2\") & (temp[\"remove\"]==True)][\"cpf\"].reset_index()\n",
    "cpf_remove_d1d2 = temp[(temp[\"dupl type\"]==\"BOTH\") & (temp[\"remove\"]==True)][\"cpf\"].reset_index()\n",
    "\n",
    "cpf_remove_d1_1 = temp_non[(temp_non[\"dtype\"]==\"D1\") & (temp_non[\"remove\"]==True)][\"cpf\"].reset_index()\n",
    "cpf_remove_d2_1 = temp_non[(temp_non[\"dtype\"]==\"BOTH\") & (temp_non[\"remove\"]==True)][\"cpf\"].reset_index()\n",
    "\n",
    "# --> \n",
    "d1_cpfs = pd.concat([cpf_remove_d1, cpf_remove_d1d2, cpf_remove_d1_1, cpf_remove_d2, cpf_remove_d2_1])\n",
    "d2_cpfs = pd.concat([cpf_remove_d2])\n",
    "d1_cpfs.to_parquet(os.path.join(output_data_folder, \"CPF_IRREGULAR_DATA_D1.parquet\"))\n",
    "d2_cpfs.to_parquet(os.path.join(output_data_folder, \"CPF_IRREGULAR_DATA_D2.parquet\"))"
   ]
  },
  {
   "cell_type": "code",
   "execution_count": 259,
   "metadata": {},
   "outputs": [
    {
     "data": {
      "text/html": [
       "<div>\n",
       "<style scoped>\n",
       "    .dataframe tbody tr th:only-of-type {\n",
       "        vertical-align: middle;\n",
       "    }\n",
       "\n",
       "    .dataframe tbody tr th {\n",
       "        vertical-align: top;\n",
       "    }\n",
       "\n",
       "    .dataframe thead th {\n",
       "        text-align: right;\n",
       "    }\n",
       "</style>\n",
       "<table border=\"1\" class=\"dataframe\">\n",
       "  <thead>\n",
       "    <tr style=\"text-align: right;\">\n",
       "      <th></th>\n",
       "      <th>index</th>\n",
       "      <th>cpf</th>\n",
       "    </tr>\n",
       "  </thead>\n",
       "  <tbody>\n",
       "    <tr>\n",
       "      <th>0</th>\n",
       "      <td>0</td>\n",
       "      <td>04603769504</td>\n",
       "    </tr>\n",
       "    <tr>\n",
       "      <th>1</th>\n",
       "      <td>2</td>\n",
       "      <td>02635471320</td>\n",
       "    </tr>\n",
       "    <tr>\n",
       "      <th>2</th>\n",
       "      <td>3</td>\n",
       "      <td>62031035355</td>\n",
       "    </tr>\n",
       "    <tr>\n",
       "      <th>3</th>\n",
       "      <td>4</td>\n",
       "      <td>01322566305</td>\n",
       "    </tr>\n",
       "    <tr>\n",
       "      <th>4</th>\n",
       "      <td>5</td>\n",
       "      <td>02634749333</td>\n",
       "    </tr>\n",
       "  </tbody>\n",
       "</table>\n",
       "</div>"
      ],
      "text/plain": [
       "   index          cpf\n",
       "0      0  04603769504\n",
       "1      2  02635471320\n",
       "2      3  62031035355\n",
       "3      4  01322566305\n",
       "4      5  02634749333"
      ]
     },
     "execution_count": 259,
     "metadata": {},
     "output_type": "execute_result"
    }
   ],
   "source": [
    "d1_cpfs[:5]"
   ]
  },
  {
   "cell_type": "code",
   "execution_count": 130,
   "metadata": {},
   "outputs": [
    {
     "data": {
      "text/plain": [
       "1049"
      ]
     },
     "execution_count": 130,
     "metadata": {},
     "output_type": "execute_result"
    }
   ],
   "source": [
    "x.index(\"EXTRA\")"
   ]
  },
  {
   "cell_type": "code",
   "execution_count": 64,
   "metadata": {},
   "outputs": [
    {
     "name": "stdout",
     "output_type": "stream",
     "text": [
      "03226906330\n"
     ]
    },
    {
     "data": {
      "text/plain": [
       "(['DOSE ÚNICA', 'DOSE ÚNICA', '2ª DOSE'],\n",
       " ['VACINA COVID 19 RECOMBINANTE',\n",
       "  'VACINA COVID 19 RECOMBINANTE',\n",
       "  'VACINA COVID 19 RECOMBINANTE'],\n",
       " ['2021-11-24', '2021-11-24', '2022-04-27'])"
      ]
     },
     "execution_count": 64,
     "metadata": {},
     "output_type": "execute_result"
    }
   ],
   "source": [
    "print(cpfs_dupl[1049])\n",
    "individuals[cpfs_dupl[1049]]"
   ]
  },
  {
   "cell_type": "code",
   "execution_count": 65,
   "metadata": {},
   "outputs": [
    {
     "data": {
      "text/html": [
       "<div>\n",
       "<style scoped>\n",
       "    .dataframe tbody tr th:only-of-type {\n",
       "        vertical-align: middle;\n",
       "    }\n",
       "\n",
       "    .dataframe tbody tr th {\n",
       "        vertical-align: top;\n",
       "    }\n",
       "\n",
       "    .dataframe thead th {\n",
       "        text-align: right;\n",
       "    }\n",
       "</style>\n",
       "<table border=\"1\" class=\"dataframe\">\n",
       "  <thead>\n",
       "    <tr style=\"text-align: right;\">\n",
       "      <th></th>\n",
       "      <th>\"cpf_usuario\"</th>\n",
       "      <th>\"vacina\"</th>\n",
       "      <th>\"data_aplicacao\"</th>\n",
       "      <th>\"municipio\"</th>\n",
       "      <th>\"tipo_atendimento\"</th>\n",
       "      <th>\"nascimento\"</th>\n",
       "      <th>\"dose\"</th>\n",
       "    </tr>\n",
       "  </thead>\n",
       "  <tbody>\n",
       "    <tr>\n",
       "      <th>206480</th>\n",
       "      <td>03226906330</td>\n",
       "      <td>VACINA COVID 19 RECOMBINANTE</td>\n",
       "      <td>2021-11-24</td>\n",
       "      <td>FORTALEZA</td>\n",
       "      <td>ROTINA</td>\n",
       "      <td>1990-03-20</td>\n",
       "      <td>DOSE ÚNICA</td>\n",
       "    </tr>\n",
       "    <tr>\n",
       "      <th>206481</th>\n",
       "      <td>03226906330</td>\n",
       "      <td>VACINA COVID 19 RECOMBINANTE</td>\n",
       "      <td>2021-11-24</td>\n",
       "      <td>FORTALEZA</td>\n",
       "      <td>CONTINGENCIA</td>\n",
       "      <td>1990-03-20</td>\n",
       "      <td>DOSE ÚNICA</td>\n",
       "    </tr>\n",
       "    <tr>\n",
       "      <th>206482</th>\n",
       "      <td>03226906330</td>\n",
       "      <td>VACINA COVID 19 RECOMBINANTE</td>\n",
       "      <td>2022-04-27</td>\n",
       "      <td>FORTALEZA</td>\n",
       "      <td>ROTINA</td>\n",
       "      <td>1990-03-20</td>\n",
       "      <td>2ª DOSE</td>\n",
       "    </tr>\n",
       "  </tbody>\n",
       "</table>\n",
       "</div>"
      ],
      "text/plain": [
       "       \"cpf_usuario\"                      \"vacina\" \"data_aplicacao\"  \\\n",
       "206480   03226906330  VACINA COVID 19 RECOMBINANTE       2021-11-24   \n",
       "206481   03226906330  VACINA COVID 19 RECOMBINANTE       2021-11-24   \n",
       "206482   03226906330  VACINA COVID 19 RECOMBINANTE       2022-04-27   \n",
       "\n",
       "       \"municipio\" \"tipo_atendimento\" \"nascimento\"      \"dose\"  \n",
       "206480   FORTALEZA             ROTINA   1990-03-20  DOSE ÚNICA  \n",
       "206481   FORTALEZA       CONTINGENCIA   1990-03-20  DOSE ÚNICA  \n",
       "206482   FORTALEZA             ROTINA   1990-03-20     2ª DOSE  "
      ]
     },
     "execution_count": 65,
     "metadata": {},
     "output_type": "execute_result"
    }
   ],
   "source": [
    "df[df['\"cpf_usuario\"']==\"03226906330\"]"
   ]
  },
  {
   "cell_type": "code",
   "execution_count": 18,
   "metadata": {},
   "outputs": [],
   "source": [
    "d = pd.read_parquet(os.path.join(pareamento_folder, \"CORONAVAC\", \"NOVO_HDI_2_21JAN2021_31AUG2021\", \"EVENTOS_PAREADOS_D2_DAY0_1.parquet\"))"
   ]
  },
  {
   "cell_type": "code",
   "execution_count": 19,
   "metadata": {},
   "outputs": [],
   "source": [
    "d[\"DIFF\"] = d[[\"DATA D1\", \"DATA D2\"]].apply(lambda x: (x[\"DATA D2\"]-x[\"DATA D1\"]).days, axis=1)"
   ]
  },
  {
   "cell_type": "code",
   "execution_count": 20,
   "metadata": {},
   "outputs": [
    {
     "data": {
      "text/html": [
       "<div>\n",
       "<style scoped>\n",
       "    .dataframe tbody tr th:only-of-type {\n",
       "        vertical-align: middle;\n",
       "    }\n",
       "\n",
       "    .dataframe tbody tr th {\n",
       "        vertical-align: top;\n",
       "    }\n",
       "\n",
       "    .dataframe thead th {\n",
       "        text-align: right;\n",
       "    }\n",
       "</style>\n",
       "<table border=\"1\" class=\"dataframe\">\n",
       "  <thead>\n",
       "    <tr style=\"text-align: right;\">\n",
       "      <th></th>\n",
       "      <th>CPF</th>\n",
       "      <th>DATA D1</th>\n",
       "      <th>DATA D2</th>\n",
       "      <th>DATA OBITO COVID</th>\n",
       "      <th>DATA OBITO GERAL</th>\n",
       "      <th>DATA HOSPITALIZACAO</th>\n",
       "      <th>DATA UTI</th>\n",
       "      <th>TIPO</th>\n",
       "      <th>PAR</th>\n",
       "      <th>PAREADO</th>\n",
       "      <th>DIFF</th>\n",
       "    </tr>\n",
       "  </thead>\n",
       "  <tbody>\n",
       "    <tr>\n",
       "      <th>0</th>\n",
       "      <td>13548310397</td>\n",
       "      <td>2021-02-11</td>\n",
       "      <td>2021-02-12</td>\n",
       "      <td>NaT</td>\n",
       "      <td>NaT</td>\n",
       "      <td>None</td>\n",
       "      <td>None</td>\n",
       "      <td>CASO</td>\n",
       "      <td>11107464315</td>\n",
       "      <td>True</td>\n",
       "      <td>1.0</td>\n",
       "    </tr>\n",
       "    <tr>\n",
       "      <th>2</th>\n",
       "      <td>13640151372</td>\n",
       "      <td>2021-02-10</td>\n",
       "      <td>2021-02-12</td>\n",
       "      <td>NaT</td>\n",
       "      <td>NaT</td>\n",
       "      <td>None</td>\n",
       "      <td>None</td>\n",
       "      <td>CASO</td>\n",
       "      <td>16938330344</td>\n",
       "      <td>True</td>\n",
       "      <td>2.0</td>\n",
       "    </tr>\n",
       "    <tr>\n",
       "      <th>4</th>\n",
       "      <td>26320053372</td>\n",
       "      <td>2021-02-12</td>\n",
       "      <td>2021-02-12</td>\n",
       "      <td>NaT</td>\n",
       "      <td>NaT</td>\n",
       "      <td>None</td>\n",
       "      <td>None</td>\n",
       "      <td>CASO</td>\n",
       "      <td>11508612315</td>\n",
       "      <td>True</td>\n",
       "      <td>0.0</td>\n",
       "    </tr>\n",
       "    <tr>\n",
       "      <th>6</th>\n",
       "      <td>21858594391</td>\n",
       "      <td>2021-02-11</td>\n",
       "      <td>2021-02-12</td>\n",
       "      <td>NaT</td>\n",
       "      <td>NaT</td>\n",
       "      <td>None</td>\n",
       "      <td>None</td>\n",
       "      <td>CASO</td>\n",
       "      <td>23018518349</td>\n",
       "      <td>True</td>\n",
       "      <td>1.0</td>\n",
       "    </tr>\n",
       "    <tr>\n",
       "      <th>8</th>\n",
       "      <td>15618161320</td>\n",
       "      <td>2021-02-11</td>\n",
       "      <td>2021-02-12</td>\n",
       "      <td>NaT</td>\n",
       "      <td>NaT</td>\n",
       "      <td>None</td>\n",
       "      <td>None</td>\n",
       "      <td>CASO</td>\n",
       "      <td>41358163391</td>\n",
       "      <td>True</td>\n",
       "      <td>1.0</td>\n",
       "    </tr>\n",
       "    <tr>\n",
       "      <th>...</th>\n",
       "      <td>...</td>\n",
       "      <td>...</td>\n",
       "      <td>...</td>\n",
       "      <td>...</td>\n",
       "      <td>...</td>\n",
       "      <td>...</td>\n",
       "      <td>...</td>\n",
       "      <td>...</td>\n",
       "      <td>...</td>\n",
       "      <td>...</td>\n",
       "      <td>...</td>\n",
       "    </tr>\n",
       "    <tr>\n",
       "      <th>125796</th>\n",
       "      <td>16501772320</td>\n",
       "      <td>2021-08-24</td>\n",
       "      <td>2021-08-26</td>\n",
       "      <td>NaT</td>\n",
       "      <td>NaT</td>\n",
       "      <td>None</td>\n",
       "      <td>None</td>\n",
       "      <td>CASO</td>\n",
       "      <td>23154322353</td>\n",
       "      <td>True</td>\n",
       "      <td>2.0</td>\n",
       "    </tr>\n",
       "    <tr>\n",
       "      <th>125809</th>\n",
       "      <td>03819824324</td>\n",
       "      <td>2021-12-21</td>\n",
       "      <td>2021-12-21</td>\n",
       "      <td>NaT</td>\n",
       "      <td>NaT</td>\n",
       "      <td>None</td>\n",
       "      <td>None</td>\n",
       "      <td>CONTROLE</td>\n",
       "      <td>21977879349</td>\n",
       "      <td>True</td>\n",
       "      <td>0.0</td>\n",
       "    </tr>\n",
       "    <tr>\n",
       "      <th>125815</th>\n",
       "      <td>24702161334</td>\n",
       "      <td>2021-12-19</td>\n",
       "      <td>2021-12-19</td>\n",
       "      <td>NaT</td>\n",
       "      <td>NaT</td>\n",
       "      <td>None</td>\n",
       "      <td>None</td>\n",
       "      <td>CONTROLE</td>\n",
       "      <td>60641770715</td>\n",
       "      <td>True</td>\n",
       "      <td>0.0</td>\n",
       "    </tr>\n",
       "    <tr>\n",
       "      <th>125829</th>\n",
       "      <td>35751843304</td>\n",
       "      <td>2021-10-21</td>\n",
       "      <td>2021-10-21</td>\n",
       "      <td>NaT</td>\n",
       "      <td>NaT</td>\n",
       "      <td>None</td>\n",
       "      <td>None</td>\n",
       "      <td>CONTROLE</td>\n",
       "      <td>44784678387</td>\n",
       "      <td>True</td>\n",
       "      <td>0.0</td>\n",
       "    </tr>\n",
       "    <tr>\n",
       "      <th>125832</th>\n",
       "      <td>27761339368</td>\n",
       "      <td>2021-08-30</td>\n",
       "      <td>2021-08-30</td>\n",
       "      <td>NaT</td>\n",
       "      <td>NaT</td>\n",
       "      <td>None</td>\n",
       "      <td>None</td>\n",
       "      <td>CASO</td>\n",
       "      <td>18783856315</td>\n",
       "      <td>True</td>\n",
       "      <td>0.0</td>\n",
       "    </tr>\n",
       "  </tbody>\n",
       "</table>\n",
       "<p>21098 rows × 11 columns</p>\n",
       "</div>"
      ],
      "text/plain": [
       "                CPF    DATA D1    DATA D2 DATA OBITO COVID DATA OBITO GERAL  \\\n",
       "0       13548310397 2021-02-11 2021-02-12              NaT              NaT   \n",
       "2       13640151372 2021-02-10 2021-02-12              NaT              NaT   \n",
       "4       26320053372 2021-02-12 2021-02-12              NaT              NaT   \n",
       "6       21858594391 2021-02-11 2021-02-12              NaT              NaT   \n",
       "8       15618161320 2021-02-11 2021-02-12              NaT              NaT   \n",
       "...             ...        ...        ...              ...              ...   \n",
       "125796  16501772320 2021-08-24 2021-08-26              NaT              NaT   \n",
       "125809  03819824324 2021-12-21 2021-12-21              NaT              NaT   \n",
       "125815  24702161334 2021-12-19 2021-12-19              NaT              NaT   \n",
       "125829  35751843304 2021-10-21 2021-10-21              NaT              NaT   \n",
       "125832  27761339368 2021-08-30 2021-08-30              NaT              NaT   \n",
       "\n",
       "       DATA HOSPITALIZACAO DATA UTI      TIPO          PAR  PAREADO  DIFF  \n",
       "0                     None     None      CASO  11107464315     True   1.0  \n",
       "2                     None     None      CASO  16938330344     True   2.0  \n",
       "4                     None     None      CASO  11508612315     True   0.0  \n",
       "6                     None     None      CASO  23018518349     True   1.0  \n",
       "8                     None     None      CASO  41358163391     True   1.0  \n",
       "...                    ...      ...       ...          ...      ...   ...  \n",
       "125796                None     None      CASO  23154322353     True   2.0  \n",
       "125809                None     None  CONTROLE  21977879349     True   0.0  \n",
       "125815                None     None  CONTROLE  60641770715     True   0.0  \n",
       "125829                None     None  CONTROLE  44784678387     True   0.0  \n",
       "125832                None     None      CASO  18783856315     True   0.0  \n",
       "\n",
       "[21098 rows x 11 columns]"
      ]
     },
     "execution_count": 20,
     "metadata": {},
     "output_type": "execute_result"
    }
   ],
   "source": [
    "d[(d[\"DIFF\"]<=7) & (d[\"TIPO\"]!=\"NAO PAREADO\")]"
   ]
  },
  {
   "cell_type": "code",
   "execution_count": 6,
   "metadata": {},
   "outputs": [
    {
     "ename": "NameError",
     "evalue": "name 'd1_cpfs' is not defined",
     "output_type": "error",
     "traceback": [
      "\u001b[1;31m---------------------------------------------------------------------------\u001b[0m",
      "\u001b[1;31mNameError\u001b[0m                                 Traceback (most recent call last)",
      "\u001b[1;32mC:\\Users\\HIGOR~1.MON\\AppData\\Local\\Temp/ipykernel_10480/2953370015.py\u001b[0m in \u001b[0;36m<module>\u001b[1;34m\u001b[0m\n\u001b[1;32m----> 1\u001b[1;33m \u001b[0md\u001b[0m\u001b[1;33m[\u001b[0m\u001b[0md\u001b[0m\u001b[1;33m[\u001b[0m\u001b[1;34m\"CPF\"\u001b[0m\u001b[1;33m]\u001b[0m\u001b[1;33m.\u001b[0m\u001b[0misin\u001b[0m\u001b[1;33m(\u001b[0m\u001b[0md1_cpfs\u001b[0m\u001b[1;33m[\u001b[0m\u001b[1;34m\"cpf\"\u001b[0m\u001b[1;33m]\u001b[0m\u001b[1;33m)\u001b[0m\u001b[1;33m]\u001b[0m\u001b[1;33m[\u001b[0m\u001b[1;34m\"DATA OBITO GERAL\"\u001b[0m\u001b[1;33m]\u001b[0m\u001b[1;33m.\u001b[0m\u001b[0mnotnull\u001b[0m\u001b[1;33m(\u001b[0m\u001b[1;33m)\u001b[0m\u001b[1;33m.\u001b[0m\u001b[0msum\u001b[0m\u001b[1;33m(\u001b[0m\u001b[1;33m)\u001b[0m\u001b[1;33m\u001b[0m\u001b[1;33m\u001b[0m\u001b[0m\n\u001b[0m",
      "\u001b[1;31mNameError\u001b[0m: name 'd1_cpfs' is not defined"
     ]
    }
   ],
   "source": [
    "d[d[\"CPF\"].isin(d1_cpfs[\"cpf\"])][\"DATA OBITO GERAL\"].notnull().sum()"
   ]
  },
  {
   "cell_type": "code",
   "execution_count": 14,
   "metadata": {},
   "outputs": [],
   "source": [
    "dd = pd.read_parquet(os.path.join(pareamento_folder, \"CORONAVAC\", \"NOVO_D1D2REG_HDI_2_21JAN2021_31AUG2021\", \"EVENTOS_PAREADOS_D2_DAY0_1.parquet\"))"
   ]
  },
  {
   "cell_type": "code",
   "execution_count": 15,
   "metadata": {},
   "outputs": [
    {
     "data": {
      "text/plain": [
       "(325687, 10)"
      ]
     },
     "execution_count": 15,
     "metadata": {},
     "output_type": "execute_result"
    }
   ],
   "source": [
    "dd.shape"
   ]
  },
  {
   "cell_type": "code",
   "execution_count": 16,
   "metadata": {},
   "outputs": [],
   "source": [
    "dd[\"DIFF\"] = dd[[\"DATA D1\", \"DATA D2\"]].apply(lambda x: (x[\"DATA D2\"]-x[\"DATA D1\"]).days, axis=1)"
   ]
  },
  {
   "cell_type": "code",
   "execution_count": 17,
   "metadata": {},
   "outputs": [
    {
     "data": {
      "text/html": [
       "<div>\n",
       "<style scoped>\n",
       "    .dataframe tbody tr th:only-of-type {\n",
       "        vertical-align: middle;\n",
       "    }\n",
       "\n",
       "    .dataframe tbody tr th {\n",
       "        vertical-align: top;\n",
       "    }\n",
       "\n",
       "    .dataframe thead th {\n",
       "        text-align: right;\n",
       "    }\n",
       "</style>\n",
       "<table border=\"1\" class=\"dataframe\">\n",
       "  <thead>\n",
       "    <tr style=\"text-align: right;\">\n",
       "      <th></th>\n",
       "      <th>CPF</th>\n",
       "      <th>DATA D1</th>\n",
       "      <th>DATA D2</th>\n",
       "      <th>DATA OBITO COVID</th>\n",
       "      <th>DATA OBITO GERAL</th>\n",
       "      <th>DATA HOSPITALIZACAO</th>\n",
       "      <th>DATA UTI</th>\n",
       "      <th>TIPO</th>\n",
       "      <th>PAR</th>\n",
       "      <th>PAREADO</th>\n",
       "      <th>DIFF</th>\n",
       "    </tr>\n",
       "  </thead>\n",
       "  <tbody>\n",
       "    <tr>\n",
       "      <th>0</th>\n",
       "      <td>13548310397</td>\n",
       "      <td>2021-02-11</td>\n",
       "      <td>2021-02-12</td>\n",
       "      <td>NaT</td>\n",
       "      <td>NaT</td>\n",
       "      <td>None</td>\n",
       "      <td>None</td>\n",
       "      <td>CASO</td>\n",
       "      <td>85083372800</td>\n",
       "      <td>True</td>\n",
       "      <td>1.0</td>\n",
       "    </tr>\n",
       "    <tr>\n",
       "      <th>2</th>\n",
       "      <td>13640151372</td>\n",
       "      <td>2021-02-10</td>\n",
       "      <td>2021-02-12</td>\n",
       "      <td>NaT</td>\n",
       "      <td>NaT</td>\n",
       "      <td>None</td>\n",
       "      <td>None</td>\n",
       "      <td>CASO</td>\n",
       "      <td>71188045334</td>\n",
       "      <td>True</td>\n",
       "      <td>2.0</td>\n",
       "    </tr>\n",
       "    <tr>\n",
       "      <th>4</th>\n",
       "      <td>26320053372</td>\n",
       "      <td>2021-02-12</td>\n",
       "      <td>2021-02-12</td>\n",
       "      <td>NaT</td>\n",
       "      <td>NaT</td>\n",
       "      <td>None</td>\n",
       "      <td>None</td>\n",
       "      <td>CASO</td>\n",
       "      <td>17337020325</td>\n",
       "      <td>True</td>\n",
       "      <td>0.0</td>\n",
       "    </tr>\n",
       "    <tr>\n",
       "      <th>6</th>\n",
       "      <td>21858594391</td>\n",
       "      <td>2021-02-11</td>\n",
       "      <td>2021-02-12</td>\n",
       "      <td>NaT</td>\n",
       "      <td>NaT</td>\n",
       "      <td>None</td>\n",
       "      <td>None</td>\n",
       "      <td>CASO</td>\n",
       "      <td>23018518349</td>\n",
       "      <td>True</td>\n",
       "      <td>1.0</td>\n",
       "    </tr>\n",
       "    <tr>\n",
       "      <th>8</th>\n",
       "      <td>15618161320</td>\n",
       "      <td>2021-02-11</td>\n",
       "      <td>2021-02-12</td>\n",
       "      <td>NaT</td>\n",
       "      <td>NaT</td>\n",
       "      <td>None</td>\n",
       "      <td>None</td>\n",
       "      <td>CASO</td>\n",
       "      <td>41358163391</td>\n",
       "      <td>True</td>\n",
       "      <td>1.0</td>\n",
       "    </tr>\n",
       "    <tr>\n",
       "      <th>...</th>\n",
       "      <td>...</td>\n",
       "      <td>...</td>\n",
       "      <td>...</td>\n",
       "      <td>...</td>\n",
       "      <td>...</td>\n",
       "      <td>...</td>\n",
       "      <td>...</td>\n",
       "      <td>...</td>\n",
       "      <td>...</td>\n",
       "      <td>...</td>\n",
       "      <td>...</td>\n",
       "    </tr>\n",
       "    <tr>\n",
       "      <th>125574</th>\n",
       "      <td>11418958387</td>\n",
       "      <td>2021-08-01</td>\n",
       "      <td>2021-08-01</td>\n",
       "      <td>NaT</td>\n",
       "      <td>NaT</td>\n",
       "      <td>None</td>\n",
       "      <td>None</td>\n",
       "      <td>CASO</td>\n",
       "      <td>78991790330</td>\n",
       "      <td>True</td>\n",
       "      <td>0.0</td>\n",
       "    </tr>\n",
       "    <tr>\n",
       "      <th>125629</th>\n",
       "      <td>24702161334</td>\n",
       "      <td>2021-12-19</td>\n",
       "      <td>2021-12-19</td>\n",
       "      <td>NaT</td>\n",
       "      <td>NaT</td>\n",
       "      <td>None</td>\n",
       "      <td>None</td>\n",
       "      <td>CONTROLE</td>\n",
       "      <td>16804368304</td>\n",
       "      <td>True</td>\n",
       "      <td>0.0</td>\n",
       "    </tr>\n",
       "    <tr>\n",
       "      <th>125642</th>\n",
       "      <td>16501772320</td>\n",
       "      <td>2021-08-24</td>\n",
       "      <td>2021-08-26</td>\n",
       "      <td>NaT</td>\n",
       "      <td>NaT</td>\n",
       "      <td>None</td>\n",
       "      <td>None</td>\n",
       "      <td>CASO</td>\n",
       "      <td>46956751372</td>\n",
       "      <td>True</td>\n",
       "      <td>2.0</td>\n",
       "    </tr>\n",
       "    <tr>\n",
       "      <th>125657</th>\n",
       "      <td>31802583300</td>\n",
       "      <td>2021-12-14</td>\n",
       "      <td>2021-12-14</td>\n",
       "      <td>NaT</td>\n",
       "      <td>NaT</td>\n",
       "      <td>None</td>\n",
       "      <td>None</td>\n",
       "      <td>CONTROLE</td>\n",
       "      <td>00694729396</td>\n",
       "      <td>True</td>\n",
       "      <td>0.0</td>\n",
       "    </tr>\n",
       "    <tr>\n",
       "      <th>125678</th>\n",
       "      <td>27761339368</td>\n",
       "      <td>2021-08-30</td>\n",
       "      <td>2021-08-30</td>\n",
       "      <td>NaT</td>\n",
       "      <td>NaT</td>\n",
       "      <td>None</td>\n",
       "      <td>None</td>\n",
       "      <td>CASO</td>\n",
       "      <td>14371308368</td>\n",
       "      <td>True</td>\n",
       "      <td>0.0</td>\n",
       "    </tr>\n",
       "  </tbody>\n",
       "</table>\n",
       "<p>20974 rows × 11 columns</p>\n",
       "</div>"
      ],
      "text/plain": [
       "                CPF    DATA D1    DATA D2 DATA OBITO COVID DATA OBITO GERAL  \\\n",
       "0       13548310397 2021-02-11 2021-02-12              NaT              NaT   \n",
       "2       13640151372 2021-02-10 2021-02-12              NaT              NaT   \n",
       "4       26320053372 2021-02-12 2021-02-12              NaT              NaT   \n",
       "6       21858594391 2021-02-11 2021-02-12              NaT              NaT   \n",
       "8       15618161320 2021-02-11 2021-02-12              NaT              NaT   \n",
       "...             ...        ...        ...              ...              ...   \n",
       "125574  11418958387 2021-08-01 2021-08-01              NaT              NaT   \n",
       "125629  24702161334 2021-12-19 2021-12-19              NaT              NaT   \n",
       "125642  16501772320 2021-08-24 2021-08-26              NaT              NaT   \n",
       "125657  31802583300 2021-12-14 2021-12-14              NaT              NaT   \n",
       "125678  27761339368 2021-08-30 2021-08-30              NaT              NaT   \n",
       "\n",
       "       DATA HOSPITALIZACAO DATA UTI      TIPO          PAR  PAREADO  DIFF  \n",
       "0                     None     None      CASO  85083372800     True   1.0  \n",
       "2                     None     None      CASO  71188045334     True   2.0  \n",
       "4                     None     None      CASO  17337020325     True   0.0  \n",
       "6                     None     None      CASO  23018518349     True   1.0  \n",
       "8                     None     None      CASO  41358163391     True   1.0  \n",
       "...                    ...      ...       ...          ...      ...   ...  \n",
       "125574                None     None      CASO  78991790330     True   0.0  \n",
       "125629                None     None  CONTROLE  16804368304     True   0.0  \n",
       "125642                None     None      CASO  46956751372     True   2.0  \n",
       "125657                None     None  CONTROLE  00694729396     True   0.0  \n",
       "125678                None     None      CASO  14371308368     True   0.0  \n",
       "\n",
       "[20974 rows x 11 columns]"
      ]
     },
     "execution_count": 17,
     "metadata": {},
     "output_type": "execute_result"
    }
   ],
   "source": [
    "dd[(dd[\"DIFF\"]<=7) & (dd[\"TIPO\"]!=\"NAO PAREADO\")]"
   ]
  },
  {
   "cell_type": "code",
   "execution_count": 273,
   "metadata": {},
   "outputs": [
    {
     "data": {
      "text/plain": [
       "(['1ª DOSE', '2ª DOSE', '2ª DOSE'],\n",
       " ['VACINA ADSORVIDA COVID 19 INATIVADA',\n",
       "  'VACINA ADSORVIDA COVID 19 INATIVADA',\n",
       "  'VACINA ADSORVIDA COVID 19 INATIVADA'],\n",
       " ['2021-02-09', '2021-02-14', '2021-02-14'])"
      ]
     },
     "execution_count": 273,
     "metadata": {},
     "output_type": "execute_result"
    }
   ],
   "source": [
    "individuals[\"20343930315\"]"
   ]
  },
  {
   "cell_type": "code",
   "execution_count": 255,
   "metadata": {},
   "outputs": [
    {
     "data": {
      "text/plain": [
       "10030"
      ]
     },
     "execution_count": 255,
     "metadata": {},
     "output_type": "execute_result"
    }
   ],
   "source": [
    "cpfs_dupl.index(\"21302995391\")"
   ]
  },
  {
   "cell_type": "code",
   "execution_count": 256,
   "metadata": {},
   "outputs": [
    {
     "data": {
      "text/plain": [
       "'D2'"
      ]
     },
     "execution_count": 256,
     "metadata": {},
     "output_type": "execute_result"
    }
   ],
   "source": [
    "dupl[10030]"
   ]
  },
  {
   "cell_type": "code",
   "execution_count": null,
   "metadata": {},
   "outputs": [],
   "source": []
  },
  {
   "cell_type": "code",
   "execution_count": 181,
   "metadata": {},
   "outputs": [
    {
     "data": {
      "text/html": [
       "<div>\n",
       "<style scoped>\n",
       "    .dataframe tbody tr th:only-of-type {\n",
       "        vertical-align: middle;\n",
       "    }\n",
       "\n",
       "    .dataframe tbody tr th {\n",
       "        vertical-align: top;\n",
       "    }\n",
       "\n",
       "    .dataframe thead th {\n",
       "        text-align: right;\n",
       "    }\n",
       "</style>\n",
       "<table border=\"1\" class=\"dataframe\">\n",
       "  <thead>\n",
       "    <tr style=\"text-align: right;\">\n",
       "      <th></th>\n",
       "      <th>CPF</th>\n",
       "      <th>DATA D1</th>\n",
       "      <th>DATA D2</th>\n",
       "      <th>DATA OBITO COVID</th>\n",
       "      <th>DATA OBITO GERAL</th>\n",
       "      <th>DATA HOSPITALIZACAO</th>\n",
       "      <th>DATA UTI</th>\n",
       "      <th>TIPO</th>\n",
       "      <th>PAR</th>\n",
       "      <th>PAREADO</th>\n",
       "      <th>DIFF</th>\n",
       "    </tr>\n",
       "  </thead>\n",
       "  <tbody>\n",
       "    <tr>\n",
       "      <th>65468</th>\n",
       "      <td>00003107353</td>\n",
       "      <td>2021-03-22</td>\n",
       "      <td>2021-03-22</td>\n",
       "      <td>NaT</td>\n",
       "      <td>NaT</td>\n",
       "      <td>None</td>\n",
       "      <td>None</td>\n",
       "      <td>CASO</td>\n",
       "      <td>09103236315</td>\n",
       "      <td>True</td>\n",
       "      <td>0</td>\n",
       "    </tr>\n",
       "  </tbody>\n",
       "</table>\n",
       "</div>"
      ],
      "text/plain": [
       "               CPF    DATA D1    DATA D2 DATA OBITO COVID DATA OBITO GERAL  \\\n",
       "65468  00003107353 2021-03-22 2021-03-22              NaT              NaT   \n",
       "\n",
       "      DATA HOSPITALIZACAO DATA UTI  TIPO          PAR  PAREADO  DIFF  \n",
       "65468                None     None  CASO  09103236315     True     0  "
      ]
     },
     "execution_count": 181,
     "metadata": {},
     "output_type": "execute_result"
    }
   ],
   "source": [
    "df_coronavac[df_coronavac[\"CPF\"]==\"00003107353\"]"
   ]
  }
 ],
 "metadata": {
  "kernelspec": {
   "display_name": "Python 3 (ipykernel)",
   "language": "python",
   "name": "python3"
  },
  "language_info": {
   "codemirror_mode": {
    "name": "ipython",
    "version": 3
   },
   "file_extension": ".py",
   "mimetype": "text/x-python",
   "name": "python",
   "nbconvert_exporter": "python",
   "pygments_lexer": "ipython3",
   "version": "3.9.7"
  }
 },
 "nbformat": 4,
 "nbformat_minor": 4
}
