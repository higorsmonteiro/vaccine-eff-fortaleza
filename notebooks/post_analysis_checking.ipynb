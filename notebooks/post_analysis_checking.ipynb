{
 "cells": [
  {
   "cell_type": "markdown",
   "metadata": {},
   "source": [
    "# Verifications Post-analysis"
   ]
  },
  {
   "cell_type": "markdown",
   "metadata": {},
   "source": [
    "## Lib"
   ]
  },
  {
   "cell_type": "code",
   "execution_count": 57,
   "metadata": {},
   "outputs": [],
   "source": [
    "import os\n",
    "import pandas as pd\n",
    "import numpy as np\n",
    "\n",
    "import matplotlib.pyplot as plt\n",
    "%matplotlib inline"
   ]
  },
  {
   "cell_type": "markdown",
   "metadata": {},
   "source": [
    "## Set config and paths"
   ]
  },
  {
   "cell_type": "code",
   "execution_count": 58,
   "metadata": {},
   "outputs": [],
   "source": [
    "inputs = {\n",
    "    \"folder\": lambda hdi_index: f\"PRI_NA_COORTEX_HDI_{hdi_index}_21JAN2021_31AUG2021\",\n",
    "    \"only_events\": lambda seed: f\"EVENTOS_PAREADOS_{seed}.parquet\",\n",
    "    \"only_pairs\": lambda seed: f\"PAREADOS_CPF_{seed}.parquet\",\n",
    "    \"pairs_events_int\": lambda event, seed: f\"PAREADOS_COM_INTERVALOS_{event}_{seed}.parquet\",\n",
    "    \"survival_int\": lambda event, seed: f\"SURVIVAL_CORONAVAC_D1D2_{event}_{seed}.parquet\"\n",
    "}\n",
    "\n",
    "config = {\n",
    "    \"seed\": 1,\n",
    "    \"hdi_index\": 2,\n",
    "    \"event\": \"OBITO\",\n",
    "}\n",
    "\n",
    "schema_path = os.path.join( \"..\", \"output\", \"data\", \"SCHEMA_21JAN2021_31AUG2021.parquet\")\n",
    "base_path = os.path.join( \"..\", \"output\", \"PAREAMENTO\", \"CORONAVAC\", inputs[\"folder\"](config[\"hdi_index\"]) )\n",
    "pairs_path = os.path.join( base_path, inputs[\"only_pairs\"](config['seed']) )\n",
    "events_path = os.path.join( base_path, inputs[\"only_events\"](config['seed']) )\n",
    "pairs_events_path = os.path.join( base_path, inputs[\"pairs_events_int\"](config['event'], config['seed']) )\n",
    "survival_path = os.path.join( base_path, \"SURVIVAL\", inputs['survival_int'](config['event'], config['seed']) )"
   ]
  },
  {
   "cell_type": "markdown",
   "metadata": {},
   "source": [
    "## Load data"
   ]
  },
  {
   "cell_type": "code",
   "execution_count": 59,
   "metadata": {},
   "outputs": [],
   "source": [
    "fschema_df = pd.read_parquet(schema_path)"
   ]
  },
  {
   "cell_type": "code",
   "execution_count": 60,
   "metadata": {},
   "outputs": [],
   "source": [
    "pairs_df = pd.read_parquet(pairs_path)\n",
    "events_df = pd.read_parquet(events_path)\n",
    "pairs_events_df = pd.read_parquet(pairs_events_path)\n",
    "survival_df = pd.read_parquet(survival_path)"
   ]
  },
  {
   "cell_type": "code",
   "execution_count": 61,
   "metadata": {},
   "outputs": [],
   "source": [
    "events_df = events_df[events_df[\"TIPO\"]!=\"NAO PAREADO\"]"
   ]
  },
  {
   "cell_type": "markdown",
   "metadata": {},
   "source": [
    "## Count of events"
   ]
  },
  {
   "cell_type": "code",
   "execution_count": 62,
   "metadata": {},
   "outputs": [],
   "source": [
    "survival_death = pd.read_parquet(os.path.join( base_path, \"SURVIVAL\", inputs['survival_int'](\"OBITO\", config['seed']) ))\n",
    "survival_hosp = pd.read_parquet(os.path.join( base_path, \"SURVIVAL\", inputs['survival_int'](\"HOSPITAL\", config['seed']) ))\n",
    "survival_icu = pd.read_parquet(os.path.join( base_path, \"SURVIVAL\", inputs['survival_int'](\"UTI\", config['seed']) ))\n",
    "\n",
    "data = {\n",
    "    \"OBITO (day 100)\": [0,0,0,0], \"HOSPITAL (day 100)\": [0,0,0,0], \"UTI (day 100)\": [0,0,0,0],\n",
    "    \"OBITO (day end)\": [0,0,0,0], \"HOSPITAL (day end)\": [0,0,0,0], \"UTI (day end)\": [0,0,0,0],\n",
    "}\n",
    "\n",
    "survival, survival_names = [survival_death, survival_hosp, survival_icu], [\"OBITO\", \"HOSPITAL\", \"UTI\"]\n",
    "for index, df in enumerate(survival):\n",
    "    surv_caso_100 = df[(df[\"TIPO\"]==\"CASO\") & (df[f\"t - D1 {survival_names[index]}\"]<=40) & (df[f\"t - D1 {survival_names[index]}\"]>=0)]\n",
    "    surv_controle_100 = df[(df[\"TIPO\"]==\"CONTROLE\") & (df[f\"t - D1 {survival_names[index]}\"]<=40) & (df[f\"t - D1 {survival_names[index]}\"]>=0)]\n",
    "    surv_caso = df[(df[\"TIPO\"]==\"CASO\")]\n",
    "    surv_controle = df[(df[\"TIPO\"]==\"CONTROLE\")]\n",
    "    \n",
    "    caso_total_d1 = surv_caso[f\"t - D1 {survival_names[index]}\"].notnull().sum()\n",
    "    controle_total_d1 = surv_controle[f\"t - D1 {survival_names[index]}\"].notnull().sum()\n",
    "    caso_total_d2 = surv_caso[f\"t - D2 {survival_names[index]}\"].notnull().sum()\n",
    "    controle_total_d2 = surv_controle[f\"t - D2 {survival_names[index]}\"].notnull().sum()\n",
    "    \n",
    "    caso_event_d1_100 = surv_caso_100[f\"E - D1 {survival_names[index]}\"].value_counts().loc[True]\n",
    "    caso_event_d2_100 = surv_caso_100[f\"E - D2 {survival_names[index]}\"].value_counts().loc[True]\n",
    "    controle_event_d1_100 = surv_controle_100[f\"E - D1 {survival_names[index]}\"].value_counts().loc[True]\n",
    "    controle_event_d2_100 = surv_controle_100[f\"E - D2 {survival_names[index]}\"].value_counts().loc[True]\n",
    "    \n",
    "    caso_event_d1 = surv_caso[f\"E - D1 {survival_names[index]}\"].value_counts().loc[True]\n",
    "    caso_event_d2 = surv_caso[f\"E - D2 {survival_names[index]}\"].value_counts().loc[True]\n",
    "    controle_event_d1 = surv_controle[f\"E - D1 {survival_names[index]}\"].value_counts().loc[True]\n",
    "    controle_event_d2 = surv_controle[f\"E - D2 {survival_names[index]}\"].value_counts().loc[True]\n",
    "    \n",
    "    data[f\"{survival_names[index]} (day 100)\"][0] = f\"{caso_event_d1_100}/{caso_total_d1}\"\n",
    "    data[f\"{survival_names[index]} (day 100)\"][1] = f\"{controle_event_d1_100}/{controle_total_d1}\"\n",
    "    data[f\"{survival_names[index]} (day 100)\"][2] = f\"{caso_event_d2_100}/{caso_total_d2}\"\n",
    "    data[f\"{survival_names[index]} (day 100)\"][3] = f\"{controle_event_d2_100}/{controle_total_d2}\"\n",
    "    \n",
    "    data[f\"{survival_names[index]} (day end)\"][0] = f\"{caso_event_d1}/{caso_total_d1}\"\n",
    "    data[f\"{survival_names[index]} (day end)\"][1] = f\"{controle_event_d1}/{controle_total_d1}\"\n",
    "    data[f\"{survival_names[index]} (day end)\"][2] = f\"{caso_event_d2}/{caso_total_d2}\"\n",
    "    data[f\"{survival_names[index]} (day end)\"][3] = f\"{controle_event_d2}/{controle_total_d2}\"\n",
    "\n",
    "data = pd.DataFrame(data)\n",
    "data.index = [\"CASO D1\", \"CONTROLE D1\", \"CASO D2\", \"CONTROLE D2\"]"
   ]
  },
  {
   "cell_type": "code",
   "execution_count": 63,
   "metadata": {},
   "outputs": [
    {
     "data": {
      "text/html": [
       "<div>\n",
       "<style scoped>\n",
       "    .dataframe tbody tr th:only-of-type {\n",
       "        vertical-align: middle;\n",
       "    }\n",
       "\n",
       "    .dataframe tbody tr th {\n",
       "        vertical-align: top;\n",
       "    }\n",
       "\n",
       "    .dataframe thead th {\n",
       "        text-align: right;\n",
       "    }\n",
       "</style>\n",
       "<table border=\"1\" class=\"dataframe\">\n",
       "  <thead>\n",
       "    <tr style=\"text-align: right;\">\n",
       "      <th></th>\n",
       "      <th>OBITO (day 100)</th>\n",
       "      <th>HOSPITAL (day 100)</th>\n",
       "      <th>UTI (day 100)</th>\n",
       "      <th>OBITO (day end)</th>\n",
       "      <th>HOSPITAL (day end)</th>\n",
       "      <th>UTI (day end)</th>\n",
       "    </tr>\n",
       "  </thead>\n",
       "  <tbody>\n",
       "    <tr>\n",
       "      <th>CASO D1</th>\n",
       "      <td>49/144393</td>\n",
       "      <td>274/144393</td>\n",
       "      <td>61/144393</td>\n",
       "      <td>57/144393</td>\n",
       "      <td>277/144393</td>\n",
       "      <td>62/144393</td>\n",
       "    </tr>\n",
       "    <tr>\n",
       "      <th>CONTROLE D1</th>\n",
       "      <td>41/144393</td>\n",
       "      <td>275/144393</td>\n",
       "      <td>64/144393</td>\n",
       "      <td>42/144393</td>\n",
       "      <td>277/144393</td>\n",
       "      <td>65/144393</td>\n",
       "    </tr>\n",
       "    <tr>\n",
       "      <th>CASO D2</th>\n",
       "      <td>20/62658</td>\n",
       "      <td>277/62380</td>\n",
       "      <td>47/62626</td>\n",
       "      <td>22/62658</td>\n",
       "      <td>286/62380</td>\n",
       "      <td>50/62626</td>\n",
       "    </tr>\n",
       "    <tr>\n",
       "      <th>CONTROLE D2</th>\n",
       "      <td>130/62658</td>\n",
       "      <td>479/62380</td>\n",
       "      <td>121/62626</td>\n",
       "      <td>132/62658</td>\n",
       "      <td>500/62380</td>\n",
       "      <td>126/62626</td>\n",
       "    </tr>\n",
       "  </tbody>\n",
       "</table>\n",
       "</div>"
      ],
      "text/plain": [
       "            OBITO (day 100) HOSPITAL (day 100) UTI (day 100) OBITO (day end)  \\\n",
       "CASO D1           49/144393         274/144393     61/144393       57/144393   \n",
       "CONTROLE D1       41/144393         275/144393     64/144393       42/144393   \n",
       "CASO D2            20/62658          277/62380      47/62626        22/62658   \n",
       "CONTROLE D2       130/62658          479/62380     121/62626       132/62658   \n",
       "\n",
       "            HOSPITAL (day end) UTI (day end)  \n",
       "CASO D1             277/144393     62/144393  \n",
       "CONTROLE D1         277/144393     65/144393  \n",
       "CASO D2              286/62380      50/62626  \n",
       "CONTROLE D2          500/62380     126/62626  "
      ]
     },
     "execution_count": 63,
     "metadata": {},
     "output_type": "execute_result"
    }
   ],
   "source": [
    "data"
   ]
  },
  {
   "cell_type": "code",
   "execution_count": null,
   "metadata": {},
   "outputs": [],
   "source": []
  },
  {
   "cell_type": "code",
   "execution_count": 58,
   "metadata": {},
   "outputs": [
    {
     "data": {
      "text/plain": [
       "0.0022319851954399695"
      ]
     },
     "execution_count": 58,
     "metadata": {},
     "output_type": "execute_result"
    }
   ],
   "source": [
    "158/70789"
   ]
  },
  {
   "cell_type": "code",
   "execution_count": 70,
   "metadata": {},
   "outputs": [],
   "source": [
    "surv = survival_death\n",
    "surv_caso = surv[surv[\"TIPO\"]==\"CASO\"]\n",
    "surv_controle = surv[surv[\"TIPO\"]==\"CONTROLE\"]"
   ]
  },
  {
   "cell_type": "code",
   "execution_count": 55,
   "metadata": {},
   "outputs": [
    {
     "data": {
      "text/plain": [
       "False    144795\n",
       "True        277\n",
       "Name: E - D1 HOSPITAL, dtype: int64"
      ]
     },
     "execution_count": 55,
     "metadata": {},
     "output_type": "execute_result"
    }
   ],
   "source": [
    "surv_caso[\"E - D1 HOSPITAL\"].value_counts()"
   ]
  },
  {
   "cell_type": "code",
   "execution_count": 56,
   "metadata": {},
   "outputs": [
    {
     "data": {
      "text/plain": [
       "False    144795\n",
       "True        277\n",
       "Name: E - D1 HOSPITAL, dtype: int64"
      ]
     },
     "execution_count": 56,
     "metadata": {},
     "output_type": "execute_result"
    }
   ],
   "source": [
    "surv_controle[\"E - D1 HOSPITAL\"].value_counts()"
   ]
  },
  {
   "cell_type": "code",
   "execution_count": 66,
   "metadata": {},
   "outputs": [],
   "source": [
    "from lifelines import KaplanMeierFitter"
   ]
  },
  {
   "cell_type": "code",
   "execution_count": 71,
   "metadata": {},
   "outputs": [
    {
     "data": {
      "text/plain": [
       "<lifelines.KaplanMeierFitter:\"caso\", fitted with 144393 total observations, 144336 right-censored observations>"
      ]
     },
     "execution_count": 71,
     "metadata": {},
     "output_type": "execute_result"
    }
   ],
   "source": [
    "df_c = surv_caso[pd.notna(surv_caso[\"t - D1 OBITO\"])]\n",
    "kmf_caso = KaplanMeierFitter(label=\"caso\")\n",
    "kmf_caso.fit(df_c[\"t - D1 OBITO\"], df_c[\"E - D1 OBITO\"])"
   ]
  },
  {
   "cell_type": "code",
   "execution_count": 50,
   "metadata": {},
   "outputs": [
    {
     "data": {
      "text/plain": [
       "<lifelines.KaplanMeierFitter:\"controle\", fitted with 144393 total observations, 144351 right-censored observations>"
      ]
     },
     "execution_count": 50,
     "metadata": {},
     "output_type": "execute_result"
    }
   ],
   "source": [
    "df_c = surv_controle[pd.notna(surv_controle[\"t - D1 OBITO\"])]\n",
    "kmf_controle = KaplanMeierFitter(label=\"controle\")\n",
    "kmf_controle.fit(df_c[\"t - D1 OBITO\"], df_c[\"E - D1 OBITO\"])"
   ]
  },
  {
   "cell_type": "code",
   "execution_count": 46,
   "metadata": {},
   "outputs": [
    {
     "data": {
      "text/html": [
       "<div>\n",
       "<style scoped>\n",
       "    .dataframe tbody tr th:only-of-type {\n",
       "        vertical-align: middle;\n",
       "    }\n",
       "\n",
       "    .dataframe tbody tr th {\n",
       "        vertical-align: top;\n",
       "    }\n",
       "\n",
       "    .dataframe thead th {\n",
       "        text-align: right;\n",
       "    }\n",
       "</style>\n",
       "<table border=\"1\" class=\"dataframe\">\n",
       "  <thead>\n",
       "    <tr style=\"text-align: right;\">\n",
       "      <th></th>\n",
       "      <th>CPF</th>\n",
       "      <th>TIPO</th>\n",
       "      <th>t - D1 OBITO</th>\n",
       "      <th>E - D1 OBITO</th>\n",
       "      <th>t - D2 OBITO</th>\n",
       "      <th>E - D2 OBITO</th>\n",
       "    </tr>\n",
       "  </thead>\n",
       "  <tbody>\n",
       "    <tr>\n",
       "      <th>6624</th>\n",
       "      <td>14284405349</td>\n",
       "      <td>CASO</td>\n",
       "      <td>NaN</td>\n",
       "      <td>False</td>\n",
       "      <td>81.0</td>\n",
       "      <td>False</td>\n",
       "    </tr>\n",
       "    <tr>\n",
       "      <th>6890</th>\n",
       "      <td>13593340330</td>\n",
       "      <td>CASO</td>\n",
       "      <td>NaN</td>\n",
       "      <td>False</td>\n",
       "      <td>66.0</td>\n",
       "      <td>False</td>\n",
       "    </tr>\n",
       "    <tr>\n",
       "      <th>6976</th>\n",
       "      <td>19059337387</td>\n",
       "      <td>CASO</td>\n",
       "      <td>NaN</td>\n",
       "      <td>False</td>\n",
       "      <td>84.0</td>\n",
       "      <td>False</td>\n",
       "    </tr>\n",
       "    <tr>\n",
       "      <th>7056</th>\n",
       "      <td>27816206372</td>\n",
       "      <td>CASO</td>\n",
       "      <td>NaN</td>\n",
       "      <td>False</td>\n",
       "      <td>65.0</td>\n",
       "      <td>False</td>\n",
       "    </tr>\n",
       "    <tr>\n",
       "      <th>7070</th>\n",
       "      <td>07345879372</td>\n",
       "      <td>CASO</td>\n",
       "      <td>NaN</td>\n",
       "      <td>False</td>\n",
       "      <td>42.0</td>\n",
       "      <td>False</td>\n",
       "    </tr>\n",
       "    <tr>\n",
       "      <th>...</th>\n",
       "      <td>...</td>\n",
       "      <td>...</td>\n",
       "      <td>...</td>\n",
       "      <td>...</td>\n",
       "      <td>...</td>\n",
       "      <td>...</td>\n",
       "    </tr>\n",
       "    <tr>\n",
       "      <th>289108</th>\n",
       "      <td>30147484391</td>\n",
       "      <td>CASO</td>\n",
       "      <td>NaN</td>\n",
       "      <td>False</td>\n",
       "      <td>106.0</td>\n",
       "      <td>False</td>\n",
       "    </tr>\n",
       "    <tr>\n",
       "      <th>289546</th>\n",
       "      <td>13604651387</td>\n",
       "      <td>CASO</td>\n",
       "      <td>NaN</td>\n",
       "      <td>False</td>\n",
       "      <td>NaN</td>\n",
       "      <td>False</td>\n",
       "    </tr>\n",
       "    <tr>\n",
       "      <th>289744</th>\n",
       "      <td>72114665372</td>\n",
       "      <td>CASO</td>\n",
       "      <td>NaN</td>\n",
       "      <td>False</td>\n",
       "      <td>60.0</td>\n",
       "      <td>False</td>\n",
       "    </tr>\n",
       "    <tr>\n",
       "      <th>289974</th>\n",
       "      <td>15441482320</td>\n",
       "      <td>CASO</td>\n",
       "      <td>NaN</td>\n",
       "      <td>False</td>\n",
       "      <td>167.0</td>\n",
       "      <td>False</td>\n",
       "    </tr>\n",
       "    <tr>\n",
       "      <th>289990</th>\n",
       "      <td>08656742809</td>\n",
       "      <td>CASO</td>\n",
       "      <td>NaN</td>\n",
       "      <td>False</td>\n",
       "      <td>NaN</td>\n",
       "      <td>False</td>\n",
       "    </tr>\n",
       "  </tbody>\n",
       "</table>\n",
       "<p>679 rows × 6 columns</p>\n",
       "</div>"
      ],
      "text/plain": [
       "                CPF  TIPO  t - D1 OBITO  E - D1 OBITO  t - D2 OBITO  \\\n",
       "6624    14284405349  CASO           NaN         False          81.0   \n",
       "6890    13593340330  CASO           NaN         False          66.0   \n",
       "6976    19059337387  CASO           NaN         False          84.0   \n",
       "7056    27816206372  CASO           NaN         False          65.0   \n",
       "7070    07345879372  CASO           NaN         False          42.0   \n",
       "...             ...   ...           ...           ...           ...   \n",
       "289108  30147484391  CASO           NaN         False         106.0   \n",
       "289546  13604651387  CASO           NaN         False           NaN   \n",
       "289744  72114665372  CASO           NaN         False          60.0   \n",
       "289974  15441482320  CASO           NaN         False         167.0   \n",
       "289990  08656742809  CASO           NaN         False           NaN   \n",
       "\n",
       "        E - D2 OBITO  \n",
       "6624           False  \n",
       "6890           False  \n",
       "6976           False  \n",
       "7056           False  \n",
       "7070           False  \n",
       "...              ...  \n",
       "289108         False  \n",
       "289546         False  \n",
       "289744         False  \n",
       "289974         False  \n",
       "289990         False  \n",
       "\n",
       "[679 rows x 6 columns]"
      ]
     },
     "execution_count": 46,
     "metadata": {},
     "output_type": "execute_result"
    }
   ],
   "source": [
    "surv_controle[pd.isna(surv_controle[\"t - D1 OBITO\"])]\n",
    "surv_caso[pd.isna(surv_caso[\"t - D1 OBITO\"])]"
   ]
  },
  {
   "cell_type": "code",
   "execution_count": 39,
   "metadata": {},
   "outputs": [
    {
     "data": {
      "text/html": [
       "<div>\n",
       "<style scoped>\n",
       "    .dataframe tbody tr th:only-of-type {\n",
       "        vertical-align: middle;\n",
       "    }\n",
       "\n",
       "    .dataframe tbody tr th {\n",
       "        vertical-align: top;\n",
       "    }\n",
       "\n",
       "    .dataframe thead th {\n",
       "        text-align: right;\n",
       "    }\n",
       "</style>\n",
       "<table border=\"1\" class=\"dataframe\">\n",
       "  <thead>\n",
       "    <tr style=\"text-align: right;\">\n",
       "      <th></th>\n",
       "      <th>CPF</th>\n",
       "      <th>DATA D1</th>\n",
       "      <th>DATA D2</th>\n",
       "      <th>DATA OBITO COVID</th>\n",
       "      <th>DATA OBITO GERAL</th>\n",
       "      <th>DATA HOSPITALIZACAO</th>\n",
       "      <th>DATA UTI</th>\n",
       "      <th>TIPO</th>\n",
       "      <th>PAR</th>\n",
       "      <th>PAREADO</th>\n",
       "    </tr>\n",
       "  </thead>\n",
       "  <tbody>\n",
       "    <tr>\n",
       "      <th>236429</th>\n",
       "      <td>30147484391</td>\n",
       "      <td>2021-05-18</td>\n",
       "      <td>2021-05-17</td>\n",
       "      <td>NaT</td>\n",
       "      <td>NaT</td>\n",
       "      <td>None</td>\n",
       "      <td>None</td>\n",
       "      <td>CONTROLE</td>\n",
       "      <td>41932480382</td>\n",
       "      <td>True</td>\n",
       "    </tr>\n",
       "    <tr>\n",
       "      <th>289110</th>\n",
       "      <td>30147484391</td>\n",
       "      <td>2021-05-18</td>\n",
       "      <td>2021-05-17</td>\n",
       "      <td>NaT</td>\n",
       "      <td>NaT</td>\n",
       "      <td>None</td>\n",
       "      <td>None</td>\n",
       "      <td>CASO</td>\n",
       "      <td>18778070368</td>\n",
       "      <td>True</td>\n",
       "    </tr>\n",
       "  </tbody>\n",
       "</table>\n",
       "</div>"
      ],
      "text/plain": [
       "                CPF    DATA D1    DATA D2 DATA OBITO COVID DATA OBITO GERAL  \\\n",
       "236429  30147484391 2021-05-18 2021-05-17              NaT              NaT   \n",
       "289110  30147484391 2021-05-18 2021-05-17              NaT              NaT   \n",
       "\n",
       "       DATA HOSPITALIZACAO DATA UTI      TIPO          PAR  PAREADO  \n",
       "236429                None     None  CONTROLE  41932480382     True  \n",
       "289110                None     None      CASO  18778070368     True  "
      ]
     },
     "execution_count": 39,
     "metadata": {},
     "output_type": "execute_result"
    }
   ],
   "source": [
    "events_df[events_df[\"CPF\"]==\"30147484391\"]"
   ]
  },
  {
   "cell_type": "code",
   "execution_count": 49,
   "metadata": {},
   "outputs": [
    {
     "data": {
      "text/plain": [
       "57"
      ]
     },
     "execution_count": 49,
     "metadata": {},
     "output_type": "execute_result"
    }
   ],
   "source": [
    "kmf_caso.event_table[\"observed\"].sum()"
   ]
  },
  {
   "cell_type": "code",
   "execution_count": 51,
   "metadata": {},
   "outputs": [
    {
     "data": {
      "text/plain": [
       "42"
      ]
     },
     "execution_count": 51,
     "metadata": {},
     "output_type": "execute_result"
    }
   ],
   "source": [
    "kmf_controle.event_table[\"observed\"].sum()"
   ]
  },
  {
   "cell_type": "code",
   "execution_count": 72,
   "metadata": {},
   "outputs": [
    {
     "data": {
      "text/html": [
       "<div>\n",
       "<style scoped>\n",
       "    .dataframe tbody tr th:only-of-type {\n",
       "        vertical-align: middle;\n",
       "    }\n",
       "\n",
       "    .dataframe tbody tr th {\n",
       "        vertical-align: top;\n",
       "    }\n",
       "\n",
       "    .dataframe thead th {\n",
       "        text-align: right;\n",
       "    }\n",
       "</style>\n",
       "<table border=\"1\" class=\"dataframe\">\n",
       "  <thead>\n",
       "    <tr style=\"text-align: right;\">\n",
       "      <th></th>\n",
       "      <th>removed</th>\n",
       "      <th>observed</th>\n",
       "      <th>censored</th>\n",
       "      <th>entrance</th>\n",
       "      <th>at_risk</th>\n",
       "    </tr>\n",
       "    <tr>\n",
       "      <th>event_at</th>\n",
       "      <th></th>\n",
       "      <th></th>\n",
       "      <th></th>\n",
       "      <th></th>\n",
       "      <th></th>\n",
       "    </tr>\n",
       "  </thead>\n",
       "  <tbody>\n",
       "    <tr>\n",
       "      <th>0.0</th>\n",
       "      <td>5897</td>\n",
       "      <td>0</td>\n",
       "      <td>5897</td>\n",
       "      <td>144393</td>\n",
       "      <td>144393</td>\n",
       "    </tr>\n",
       "    <tr>\n",
       "      <th>1.0</th>\n",
       "      <td>23347</td>\n",
       "      <td>0</td>\n",
       "      <td>23347</td>\n",
       "      <td>0</td>\n",
       "      <td>138496</td>\n",
       "    </tr>\n",
       "    <tr>\n",
       "      <th>2.0</th>\n",
       "      <td>6810</td>\n",
       "      <td>0</td>\n",
       "      <td>6810</td>\n",
       "      <td>0</td>\n",
       "      <td>115149</td>\n",
       "    </tr>\n",
       "    <tr>\n",
       "      <th>3.0</th>\n",
       "      <td>10769</td>\n",
       "      <td>0</td>\n",
       "      <td>10769</td>\n",
       "      <td>0</td>\n",
       "      <td>108339</td>\n",
       "    </tr>\n",
       "    <tr>\n",
       "      <th>4.0</th>\n",
       "      <td>5775</td>\n",
       "      <td>0</td>\n",
       "      <td>5775</td>\n",
       "      <td>0</td>\n",
       "      <td>97570</td>\n",
       "    </tr>\n",
       "    <tr>\n",
       "      <th>...</th>\n",
       "      <td>...</td>\n",
       "      <td>...</td>\n",
       "      <td>...</td>\n",
       "      <td>...</td>\n",
       "      <td>...</td>\n",
       "    </tr>\n",
       "    <tr>\n",
       "      <th>201.0</th>\n",
       "      <td>2</td>\n",
       "      <td>0</td>\n",
       "      <td>2</td>\n",
       "      <td>0</td>\n",
       "      <td>6</td>\n",
       "    </tr>\n",
       "    <tr>\n",
       "      <th>206.0</th>\n",
       "      <td>1</td>\n",
       "      <td>0</td>\n",
       "      <td>1</td>\n",
       "      <td>0</td>\n",
       "      <td>4</td>\n",
       "    </tr>\n",
       "    <tr>\n",
       "      <th>209.0</th>\n",
       "      <td>1</td>\n",
       "      <td>0</td>\n",
       "      <td>1</td>\n",
       "      <td>0</td>\n",
       "      <td>3</td>\n",
       "    </tr>\n",
       "    <tr>\n",
       "      <th>216.0</th>\n",
       "      <td>1</td>\n",
       "      <td>0</td>\n",
       "      <td>1</td>\n",
       "      <td>0</td>\n",
       "      <td>2</td>\n",
       "    </tr>\n",
       "    <tr>\n",
       "      <th>217.0</th>\n",
       "      <td>1</td>\n",
       "      <td>0</td>\n",
       "      <td>1</td>\n",
       "      <td>0</td>\n",
       "      <td>1</td>\n",
       "    </tr>\n",
       "  </tbody>\n",
       "</table>\n",
       "<p>164 rows × 5 columns</p>\n",
       "</div>"
      ],
      "text/plain": [
       "          removed  observed  censored  entrance  at_risk\n",
       "event_at                                                \n",
       "0.0          5897         0      5897    144393   144393\n",
       "1.0         23347         0     23347         0   138496\n",
       "2.0          6810         0      6810         0   115149\n",
       "3.0         10769         0     10769         0   108339\n",
       "4.0          5775         0      5775         0    97570\n",
       "...           ...       ...       ...       ...      ...\n",
       "201.0           2         0         2         0        6\n",
       "206.0           1         0         1         0        4\n",
       "209.0           1         0         1         0        3\n",
       "216.0           1         0         1         0        2\n",
       "217.0           1         0         1         0        1\n",
       "\n",
       "[164 rows x 5 columns]"
      ]
     },
     "execution_count": 72,
     "metadata": {},
     "output_type": "execute_result"
    }
   ],
   "source": [
    "kmf_caso.event_table"
   ]
  },
  {
   "cell_type": "code",
   "execution_count": 75,
   "metadata": {},
   "outputs": [
    {
     "ename": "AttributeError",
     "evalue": "'KaplanMeierFitter' object has no attribute 'survival_table_from_events'",
     "output_type": "error",
     "traceback": [
      "\u001b[1;31m---------------------------------------------------------------------------\u001b[0m",
      "\u001b[1;31mAttributeError\u001b[0m                            Traceback (most recent call last)",
      "\u001b[1;32mC:\\Users\\HIGOR~1.MON\\AppData\\Local\\Temp/ipykernel_11424/3540691111.py\u001b[0m in \u001b[0;36m<module>\u001b[1;34m\u001b[0m\n\u001b[1;32m----> 1\u001b[1;33m \u001b[0mkmf_caso\u001b[0m\u001b[1;33m.\u001b[0m\u001b[0msurvival_table_from_events\u001b[0m\u001b[1;33m\u001b[0m\u001b[1;33m\u001b[0m\u001b[0m\n\u001b[0m",
      "\u001b[1;31mAttributeError\u001b[0m: 'KaplanMeierFitter' object has no attribute 'survival_table_from_events'"
     ]
    }
   ],
   "source": [
    "kmf_caso.survival_table_from_events"
   ]
  },
  {
   "cell_type": "code",
   "execution_count": null,
   "metadata": {},
   "outputs": [],
   "source": []
  }
 ],
 "metadata": {
  "kernelspec": {
   "display_name": "Python 3 (ipykernel)",
   "language": "python",
   "name": "python3"
  },
  "language_info": {
   "codemirror_mode": {
    "name": "ipython",
    "version": 3
   },
   "file_extension": ".py",
   "mimetype": "text/x-python",
   "name": "python",
   "nbconvert_exporter": "python",
   "pygments_lexer": "ipython3",
   "version": "3.9.7"
  }
 },
 "nbformat": 4,
 "nbformat_minor": 4
}
